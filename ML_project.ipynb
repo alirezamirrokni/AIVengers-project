{
 "cells": [
  {
   "cell_type": "markdown",
   "metadata": {},
   "source": [
    "\n",
    "<div style=\"text-align:center;line-height:300%;\">\n",
    "<font face=\"XB Zar\" size=7>\n",
    "<h4>Machine Learning Project</h4>\n",
    "  </font>\n",
    "</div>\n",
    "\n",
    "\n",
    "<div style=\"text-align:center;direction:ltr;line-height:300%;\">\n",
    "<font face=\"XB Zar\" size=3>\n",
    "<h1> AIVengers  </h1>\n",
    "  </font>\n",
    "</div>\n",
    "<div style=\"text-align:center;direction:ltr;line-height:300%;\">\n",
    "<font face=\"XB Zar\" size=3>\n",
    "<h1> EEG valence classification  </h1>\n",
    "  </font>\n",
    "</div>\n",
    "\n",
    "\n",
    "\n",
    "\n"
   ]
  },
  {
   "cell_type": "markdown",
   "metadata": {},
   "source": [
    "## Project description"
   ]
  },
  {
   "cell_type": "markdown",
   "metadata": {},
   "source": [
    "\n",
    "**Objective**:\n",
    "\n",
    "\n",
    "The objective of this project is to design a machine learning model that can classify the valence (positive or negative) of EEG channel features. The dataset consists of features such as PSD (Power Spectral Density) and PLV (Phase Locking Value) extracted from EEG signals .\n",
    "\n",
    "note : you don't need to know what exactly these PLV and PSD are , just use them as some features for classification task.\n",
    "\n",
    "**Dataset**:\n",
    "\n",
    "\n",
    "The dataset contains a collection of EEG channel features, including PSD and PLV features. Each sample in the dataset represents a specific EEG recording, and the corresponding label indicates the valence (positive(1) or negative(0)) associated with that recording.\n",
    "\n",
    "**Recommended Approach**:\n",
    "1. Data Preprocessing:\n",
    "    - Load the dataset and perform any necessary data cleaning such as handling missing values , data normalization, data balancing.\n",
    "        - handling missing values\n",
    "            1. Drop the rows with missing values: This is the simplest solution, but it can result in a significant loss of data.\n",
    "            2. Drop the columns with missing values: If a particular feature has a lot of missing values, you may choose to drop the entire column instead of imputing the missing values.\n",
    "            3. `Impute missing values with mean, median, or mode`: This involves replacing missing values with a summary statistic, such as the mean, median, or mode of the feature. This is a common approach for numerical data.\n",
    "        - Data normalization is a process of organizing data in a database in such a way that it reduces redundancy and dependency among different tables. It is a technique to create modular, scalable, and maintainable database structures. The basic idea behind normalization is to divide a larger table into smaller tables and define relationships between them. This helps to eliminate data redundancies and inconsistencies which can lead to data anomalies and make it difficult to update, delete or insert data. A well-normalized database ensures data integrity and accuracy and makes it easier to query and analyze data.\n",
    "            - `Data normalization with z-score`, also known as standardization, is a statistical process of rescaling a dataset so that it has a mean of 0 and a standard deviation of \n",
    "            - more information : https://www.statology.org/z-score-normalization/\n",
    "        - There are many approaches to random resampling for imbalanced classification\n",
    "            1. Random Oversampling: Randomly duplicate examples in the minority class.\n",
    "            2. Random `Undersampling`: Randomly delete examples in the majority class\n",
    "            - `smote-oversampling` : https://machinelearningmastery.com/smote-oversampling-for-imbalanced-classification/\n",
    "\n",
    "2. Feature Selection:\n",
    "    - Select the most informative features using techniques like \n",
    "        1. Recursive Feature Elimination (RFE): This method eliminates features iteratively by training a model and removing the least important feature until a specified number of features is reached.\n",
    "        2. Correlation-based Feature Selection (CFS): This method removes features that are highly correlated with one another, prioritizing features that are highly correlated with the target variable.\n",
    "        3. Principal Component Analysis (PCA): This method creates new features that are linear combinations of the original features while maximizing the variance in the data. It selects the new features which explain the most variance in the data.\n",
    "        4. Tree-based Feature Selection: This method is based on decision trees and uses feature importance scores to select the most important features.\n",
    "        5. Mutual Information-based Selection: This method measures the level of dependence between features and the target variable to select the most informative features.\n",
    "        6. L1 Regularization: This method penalizes high-valued coefficients in a linear model to force them to zero. This results in sparse coefficients and selects only the most important features.\n",
    "    - is it recommended to use `fisher feature selection` :\n",
    "        - Fisher feature selection is a method for selecting a subset of relevant features in a dataset that are most discriminative for classification tasks. It is based on the Fisher's discriminant ratio, which measures the separation between classes in terms of the means and variances of the feature values. Essentially, it calculates the ratio of the between-class variance to the within-class variance for each feature and selects the subset of features with the highest ratio.\n",
    "3. Model Selection and Training:\n",
    "    - Split the dataset into training and testing sets to evaluate the model's performance.\n",
    "    - Choose atleast `3` classical machine learning algorithms such as `Support Vector Machines (SVM), Logistic Regression (LR), Random Forest, Multi-layer Perceptron classifie(MLP), Gaussian naive bayes`, etc.\n",
    "    - Train each model using the training dataset and tune hyperparameters if necessary.\n",
    "\n",
    "\n",
    "4. Model Evaluation:\n",
    "    - Use the selected model to predict the valence of EEG channel features in the testing dataset.\n",
    "    - Evaluate the model's performance on the testing dataset using evaluation metrics such as accuracy, precision, recall, and F1-score.\n",
    "    - optional : use cross-validation evaluation \n",
    "   \n",
    "\n",
    "5. Model Comparison and Selection:\n",
    "    - Compare the performance of different models based on evaluation metrics.\n",
    "    - Select the best-performing model for valence classification.\n",
    "\n",
    "\n"
   ]
  },
  {
   "cell_type": "markdown",
   "metadata": {},
   "source": [
    "---"
   ]
  },
  {
   "cell_type": "markdown",
   "metadata": {},
   "source": [
    "Import needed libraries :"
   ]
  },
  {
   "cell_type": "code",
   "execution_count": 3,
   "metadata": {},
   "outputs": [],
   "source": [
    "import numpy as np\n",
    "import pandas as pd\n",
    "import matplotlib.pyplot as plt\n",
    "from lightgbm import LGBMClassifier\n",
    "from sklearn.ensemble import RandomForestClassifier\n",
    "from sklearn.neural_network import MLPClassifier\n",
    "from sklearn.svm import SVC\n",
    "from sklearn.preprocessing import StandardScaler\n",
    "from sklearn.preprocessing import MinMaxScaler\n",
    "from sklearn.model_selection import train_test_split\n",
    "from sklearn.feature_selection import RFE\n",
    "from sklearn.preprocessing import LabelEncoder\n",
    "from sklearn.metrics import f1_score, accuracy_score\n",
    "from imblearn.over_sampling import SMOTE\n",
    "import seaborn as sns \n",
    "# and any other needed library"
   ]
  },
  {
   "cell_type": "markdown",
   "metadata": {},
   "source": [
    "load dataset :"
   ]
  },
  {
   "cell_type": "code",
   "execution_count": 4,
   "metadata": {},
   "outputs": [],
   "source": [
    "\n",
    "df = pd.read_csv(\"dataset.csv\")"
   ]
  },
  {
   "cell_type": "code",
   "execution_count": 5,
   "metadata": {},
   "outputs": [
    {
     "data": {
      "text/html": [
       "<div>\n",
       "<style scoped>\n",
       "    .dataframe tbody tr th:only-of-type {\n",
       "        vertical-align: middle;\n",
       "    }\n",
       "\n",
       "    .dataframe tbody tr th {\n",
       "        vertical-align: top;\n",
       "    }\n",
       "\n",
       "    .dataframe thead th {\n",
       "        text-align: right;\n",
       "    }\n",
       "</style>\n",
       "<table border=\"1\" class=\"dataframe\">\n",
       "  <thead>\n",
       "    <tr style=\"text-align: right;\">\n",
       "      <th></th>\n",
       "      <th>valence</th>\n",
       "      <th>subject</th>\n",
       "      <th>epoch</th>\n",
       "      <th>Fpz</th>\n",
       "      <th>Fp1</th>\n",
       "      <th>Fp2</th>\n",
       "      <th>AF3</th>\n",
       "      <th>AF4</th>\n",
       "      <th>AF7</th>\n",
       "      <th>AF8</th>\n",
       "      <th>...</th>\n",
       "      <th>POz_NE</th>\n",
       "      <th>PO3_NE</th>\n",
       "      <th>PO4_NE</th>\n",
       "      <th>PO5_NE</th>\n",
       "      <th>PO6_NE</th>\n",
       "      <th>PO7_NE</th>\n",
       "      <th>PO8_NE</th>\n",
       "      <th>Oz_NE</th>\n",
       "      <th>O1_NE</th>\n",
       "      <th>O2_NE</th>\n",
       "    </tr>\n",
       "  </thead>\n",
       "  <tbody>\n",
       "    <tr>\n",
       "      <th>0</th>\n",
       "      <td>1</td>\n",
       "      <td>02wxw</td>\n",
       "      <td>0</td>\n",
       "      <td>2.460000e-10</td>\n",
       "      <td>3.270000e-10</td>\n",
       "      <td>3.300000e-10</td>\n",
       "      <td>1.940000e-10</td>\n",
       "      <td>2.150000e-10</td>\n",
       "      <td>3.850000e-10</td>\n",
       "      <td>3.880000e-10</td>\n",
       "      <td>...</td>\n",
       "      <td>16.512890</td>\n",
       "      <td>16.322085</td>\n",
       "      <td>16.447947</td>\n",
       "      <td>16.293350</td>\n",
       "      <td>16.249097</td>\n",
       "      <td>16.419212</td>\n",
       "      <td>16.423235</td>\n",
       "      <td>16.403695</td>\n",
       "      <td>16.384729</td>\n",
       "      <td>16.364039</td>\n",
       "    </tr>\n",
       "    <tr>\n",
       "      <th>1</th>\n",
       "      <td>0</td>\n",
       "      <td>02wxw</td>\n",
       "      <td>1</td>\n",
       "      <td>2.460000e-10</td>\n",
       "      <td>5.070000e-10</td>\n",
       "      <td>5.350000e-10</td>\n",
       "      <td>2.030000e-10</td>\n",
       "      <td>2.300000e-10</td>\n",
       "      <td>5.810000e-10</td>\n",
       "      <td>8.070000e-10</td>\n",
       "      <td>...</td>\n",
       "      <td>11.548358</td>\n",
       "      <td>11.261207</td>\n",
       "      <td>11.408580</td>\n",
       "      <td>11.252011</td>\n",
       "      <td>11.325246</td>\n",
       "      <td>11.919253</td>\n",
       "      <td>11.919253</td>\n",
       "      <td>11.850287</td>\n",
       "      <td>11.867529</td>\n",
       "      <td>11.867529</td>\n",
       "    </tr>\n",
       "    <tr>\n",
       "      <th>2</th>\n",
       "      <td>0</td>\n",
       "      <td>02wxw</td>\n",
       "      <td>2</td>\n",
       "      <td>1.890000e-10</td>\n",
       "      <td>5.080000e-10</td>\n",
       "      <td>4.450000e-10</td>\n",
       "      <td>1.810000e-10</td>\n",
       "      <td>2.190000e-10</td>\n",
       "      <td>5.590000e-10</td>\n",
       "      <td>5.100000e-10</td>\n",
       "      <td>...</td>\n",
       "      <td>12.458292</td>\n",
       "      <td>12.171634</td>\n",
       "      <td>12.337397</td>\n",
       "      <td>12.048071</td>\n",
       "      <td>12.111289</td>\n",
       "      <td>12.229926</td>\n",
       "      <td>12.813013</td>\n",
       "      <td>12.744048</td>\n",
       "      <td>12.761289</td>\n",
       "      <td>12.761289</td>\n",
       "    </tr>\n",
       "    <tr>\n",
       "      <th>3</th>\n",
       "      <td>0</td>\n",
       "      <td>02wxw</td>\n",
       "      <td>3</td>\n",
       "      <td>2.580000e-10</td>\n",
       "      <td>3.040000e-10</td>\n",
       "      <td>NaN</td>\n",
       "      <td>2.210000e-10</td>\n",
       "      <td>1.860000e-10</td>\n",
       "      <td>2.780000e-10</td>\n",
       "      <td>3.300000e-10</td>\n",
       "      <td>...</td>\n",
       "      <td>16.372802</td>\n",
       "      <td>16.203262</td>\n",
       "      <td>16.205041</td>\n",
       "      <td>16.000443</td>\n",
       "      <td>15.994696</td>\n",
       "      <td>16.141767</td>\n",
       "      <td>16.190043</td>\n",
       "      <td>16.292342</td>\n",
       "      <td>16.310759</td>\n",
       "      <td>16.130328</td>\n",
       "    </tr>\n",
       "    <tr>\n",
       "      <th>4</th>\n",
       "      <td>0</td>\n",
       "      <td>02wxw</td>\n",
       "      <td>4</td>\n",
       "      <td>1.860000e-10</td>\n",
       "      <td>NaN</td>\n",
       "      <td>4.180000e-10</td>\n",
       "      <td>1.590000e-10</td>\n",
       "      <td>1.990000e-10</td>\n",
       "      <td>3.350000e-10</td>\n",
       "      <td>6.460000e-10</td>\n",
       "      <td>...</td>\n",
       "      <td>13.401519</td>\n",
       "      <td>12.691174</td>\n",
       "      <td>12.915558</td>\n",
       "      <td>12.638875</td>\n",
       "      <td>NaN</td>\n",
       "      <td>12.862438</td>\n",
       "      <td>12.898317</td>\n",
       "      <td>12.966133</td>\n",
       "      <td>12.830829</td>\n",
       "      <td>13.063711</td>\n",
       "    </tr>\n",
       "  </tbody>\n",
       "</table>\n",
       "<p>5 rows × 475 columns</p>\n",
       "</div>"
      ],
      "text/plain": [
       "   valence subject  epoch           Fpz           Fp1           Fp2  \\\n",
       "0        1   02wxw      0  2.460000e-10  3.270000e-10  3.300000e-10   \n",
       "1        0   02wxw      1  2.460000e-10  5.070000e-10  5.350000e-10   \n",
       "2        0   02wxw      2  1.890000e-10  5.080000e-10  4.450000e-10   \n",
       "3        0   02wxw      3  2.580000e-10  3.040000e-10           NaN   \n",
       "4        0   02wxw      4  1.860000e-10           NaN  4.180000e-10   \n",
       "\n",
       "            AF3           AF4           AF7           AF8  ...     POz_NE  \\\n",
       "0  1.940000e-10  2.150000e-10  3.850000e-10  3.880000e-10  ...  16.512890   \n",
       "1  2.030000e-10  2.300000e-10  5.810000e-10  8.070000e-10  ...  11.548358   \n",
       "2  1.810000e-10  2.190000e-10  5.590000e-10  5.100000e-10  ...  12.458292   \n",
       "3  2.210000e-10  1.860000e-10  2.780000e-10  3.300000e-10  ...  16.372802   \n",
       "4  1.590000e-10  1.990000e-10  3.350000e-10  6.460000e-10  ...  13.401519   \n",
       "\n",
       "      PO3_NE     PO4_NE     PO5_NE     PO6_NE     PO7_NE     PO8_NE  \\\n",
       "0  16.322085  16.447947  16.293350  16.249097  16.419212  16.423235   \n",
       "1  11.261207  11.408580  11.252011  11.325246  11.919253  11.919253   \n",
       "2  12.171634  12.337397  12.048071  12.111289  12.229926  12.813013   \n",
       "3  16.203262  16.205041  16.000443  15.994696  16.141767  16.190043   \n",
       "4  12.691174  12.915558  12.638875        NaN  12.862438  12.898317   \n",
       "\n",
       "       Oz_NE      O1_NE      O2_NE  \n",
       "0  16.403695  16.384729  16.364039  \n",
       "1  11.850287  11.867529  11.867529  \n",
       "2  12.744048  12.761289  12.761289  \n",
       "3  16.292342  16.310759  16.130328  \n",
       "4  12.966133  12.830829  13.063711  \n",
       "\n",
       "[5 rows x 475 columns]"
      ]
     },
     "execution_count": 5,
     "metadata": {},
     "output_type": "execute_result"
    }
   ],
   "source": [
    "df.head()"
   ]
  },
  {
   "cell_type": "markdown",
   "metadata": {},
   "source": [
    "### missing value haandling :\n"
   ]
  },
  {
   "cell_type": "markdown",
   "metadata": {},
   "source": [
    "hint : you can use `pd.fillna()` method. "
   ]
  },
  {
   "cell_type": "code",
   "execution_count": 6,
   "metadata": {},
   "outputs": [],
   "source": [
    "def missing_value_handler(df):\n",
    "    \"\"\"\n",
    "    Args:\n",
    "        df (pandas.DataFrame): input DataFrame\n",
    "    \n",
    "    return:\n",
    "        new_df (pandas.DataFrame): output DataFrame\n",
    "    \"\"\"\n",
    "    new_df = df.copy()\n",
    "    number_of_rows = len(new_df.index)\n",
    "    number_of_columns = len(new_df.columns)\n",
    "\n",
    "\n",
    "    new_df.dropna(axis=1, thresh=0.2*number_of_rows, inplace=True)\n",
    "    new_df.dropna(thresh=0.5*number_of_columns, inplace=True)\n",
    "\n",
    "\n",
    "    for column in new_df.columns:\n",
    "        if(df[column].dtype != 'O'):\n",
    "            new_df[column].fillna(value=new_df[column].mean(), inplace=True)\n",
    "\n",
    "    return new_df"
   ]
  },
  {
   "cell_type": "code",
   "execution_count": 7,
   "metadata": {},
   "outputs": [
    {
     "data": {
      "text/plain": [
       "67"
      ]
     },
     "execution_count": 7,
     "metadata": {},
     "output_type": "execute_result"
    }
   ],
   "source": [
    "df.isnull().sum().sum()"
   ]
  },
  {
   "cell_type": "code",
   "execution_count": 8,
   "metadata": {},
   "outputs": [
    {
     "data": {
      "text/plain": [
       "0"
      ]
     },
     "execution_count": 8,
     "metadata": {},
     "output_type": "execute_result"
    }
   ],
   "source": [
    "missing_value_handler(df).isnull().sum().sum()"
   ]
  },
  {
   "cell_type": "markdown",
   "metadata": {},
   "source": [
    "### Data normalization :"
   ]
  },
  {
   "cell_type": "markdown",
   "metadata": {},
   "source": [
    "hint: you can use `sklearn.preprocessing.StandardScaler` method.\n"
   ]
  },
  {
   "cell_type": "code",
   "execution_count": 9,
   "metadata": {},
   "outputs": [],
   "source": [
    "def encoder(df):\n",
    "\n",
    "    categorized_df = df.copy()\n",
    "    label_encoder = LabelEncoder()\n",
    "\n",
    "    for column in categorized_df.columns:\n",
    "        if(categorized_df[column].dtype == 'O'):\n",
    "            categorized_df[column] = label_encoder.fit_transform(categorized_df[column])\n",
    "    \n",
    "    return categorized_df\n",
    "    "
   ]
  },
  {
   "cell_type": "code",
   "execution_count": 11,
   "metadata": {},
   "outputs": [],
   "source": [
    "def normalizer(df):\n",
    "\n",
    "    normalized_dataset = df.copy()\n",
    "    normalized_dataset = encoder(normalized_dataset)\n",
    "    standard_scaler = StandardScaler()\n",
    "    minimax_scaler = MinMaxScaler()\n",
    "    numerical_columns = [column for column in normalized_dataset.columns[1:] if normalized_dataset[column].dtype != 'O']\n",
    "\n",
    "    standard_scaler_columns = [column for column in numerical_columns if len(normalized_dataset[column].unique()) > 30]\n",
    "    minimax_scaler_columns = [column for column in numerical_columns if len(normalized_dataset[column].unique()) <= 30]\n",
    "\n",
    "    minimax_scaled_columns = minimax_scaler.fit_transform(normalized_dataset[minimax_scaler_columns])\n",
    "    normalized_dataset[minimax_scaler_columns] = minimax_scaled_columns\n",
    "\n",
    "    standard_scaled_columns = standard_scaler.fit_transform(normalized_dataset[standard_scaler_columns])\n",
    "    normalized_dataset[standard_scaler_columns] = standard_scaled_columns\n",
    "    \n",
    "    return normalized_dataset"
   ]
  },
  {
   "cell_type": "code",
   "execution_count": 12,
   "metadata": {},
   "outputs": [
    {
     "data": {
      "text/html": [
       "<div>\n",
       "<style scoped>\n",
       "    .dataframe tbody tr th:only-of-type {\n",
       "        vertical-align: middle;\n",
       "    }\n",
       "\n",
       "    .dataframe tbody tr th {\n",
       "        vertical-align: top;\n",
       "    }\n",
       "\n",
       "    .dataframe thead th {\n",
       "        text-align: right;\n",
       "    }\n",
       "</style>\n",
       "<table border=\"1\" class=\"dataframe\">\n",
       "  <thead>\n",
       "    <tr style=\"text-align: right;\">\n",
       "      <th></th>\n",
       "      <th>valence</th>\n",
       "      <th>subject</th>\n",
       "      <th>epoch</th>\n",
       "      <th>Fpz</th>\n",
       "      <th>Fp1</th>\n",
       "      <th>Fp2</th>\n",
       "      <th>AF3</th>\n",
       "      <th>AF4</th>\n",
       "      <th>AF7</th>\n",
       "      <th>AF8</th>\n",
       "      <th>...</th>\n",
       "      <th>POz_NE</th>\n",
       "      <th>PO3_NE</th>\n",
       "      <th>PO4_NE</th>\n",
       "      <th>PO5_NE</th>\n",
       "      <th>PO6_NE</th>\n",
       "      <th>PO7_NE</th>\n",
       "      <th>PO8_NE</th>\n",
       "      <th>Oz_NE</th>\n",
       "      <th>O1_NE</th>\n",
       "      <th>O2_NE</th>\n",
       "    </tr>\n",
       "  </thead>\n",
       "  <tbody>\n",
       "    <tr>\n",
       "      <th>0</th>\n",
       "      <td>1</td>\n",
       "      <td>0.0</td>\n",
       "      <td>-1.697955</td>\n",
       "      <td>-0.423165</td>\n",
       "      <td>-6.057874e-01</td>\n",
       "      <td>-5.734662e-01</td>\n",
       "      <td>-0.500007</td>\n",
       "      <td>-0.401138</td>\n",
       "      <td>-0.491678</td>\n",
       "      <td>-0.468914</td>\n",
       "      <td>...</td>\n",
       "      <td>0.019342</td>\n",
       "      <td>0.024959</td>\n",
       "      <td>0.038193</td>\n",
       "      <td>0.050286</td>\n",
       "      <td>0.032108</td>\n",
       "      <td>0.064969</td>\n",
       "      <td>0.040938</td>\n",
       "      <td>0.010701</td>\n",
       "      <td>0.036298</td>\n",
       "      <td>0.007060</td>\n",
       "    </tr>\n",
       "    <tr>\n",
       "      <th>1</th>\n",
       "      <td>0</td>\n",
       "      <td>0.0</td>\n",
       "      <td>-1.666262</td>\n",
       "      <td>-0.423165</td>\n",
       "      <td>-4.649070e-01</td>\n",
       "      <td>-4.533364e-01</td>\n",
       "      <td>-0.482284</td>\n",
       "      <td>-0.376234</td>\n",
       "      <td>-0.347845</td>\n",
       "      <td>-0.243932</td>\n",
       "      <td>...</td>\n",
       "      <td>-1.006514</td>\n",
       "      <td>-1.011093</td>\n",
       "      <td>-0.993473</td>\n",
       "      <td>-0.980820</td>\n",
       "      <td>-0.970266</td>\n",
       "      <td>-0.856874</td>\n",
       "      <td>-0.876288</td>\n",
       "      <td>-0.925490</td>\n",
       "      <td>-0.892299</td>\n",
       "      <td>-0.915992</td>\n",
       "    </tr>\n",
       "    <tr>\n",
       "      <th>2</th>\n",
       "      <td>0</td>\n",
       "      <td>0.0</td>\n",
       "      <td>-1.634569</td>\n",
       "      <td>-0.499531</td>\n",
       "      <td>-4.641243e-01</td>\n",
       "      <td>-5.060763e-01</td>\n",
       "      <td>-0.525606</td>\n",
       "      <td>-0.394497</td>\n",
       "      <td>-0.363989</td>\n",
       "      <td>-0.403406</td>\n",
       "      <td>...</td>\n",
       "      <td>-0.818488</td>\n",
       "      <td>-0.824712</td>\n",
       "      <td>-0.803325</td>\n",
       "      <td>-0.818002</td>\n",
       "      <td>-0.810247</td>\n",
       "      <td>-0.793231</td>\n",
       "      <td>-0.694275</td>\n",
       "      <td>-0.741731</td>\n",
       "      <td>-0.708569</td>\n",
       "      <td>-0.732519</td>\n",
       "    </tr>\n",
       "    <tr>\n",
       "      <th>3</th>\n",
       "      <td>0</td>\n",
       "      <td>0.0</td>\n",
       "      <td>-1.602875</td>\n",
       "      <td>-0.407088</td>\n",
       "      <td>-6.237888e-01</td>\n",
       "      <td>-1.211817e-16</td>\n",
       "      <td>-0.446838</td>\n",
       "      <td>-0.449286</td>\n",
       "      <td>-0.570199</td>\n",
       "      <td>-0.500057</td>\n",
       "      <td>...</td>\n",
       "      <td>-0.009605</td>\n",
       "      <td>0.000634</td>\n",
       "      <td>-0.011536</td>\n",
       "      <td>-0.009623</td>\n",
       "      <td>-0.019682</td>\n",
       "      <td>0.008133</td>\n",
       "      <td>-0.006551</td>\n",
       "      <td>-0.012194</td>\n",
       "      <td>0.021092</td>\n",
       "      <td>-0.040917</td>\n",
       "    </tr>\n",
       "    <tr>\n",
       "      <th>4</th>\n",
       "      <td>0</td>\n",
       "      <td>0.0</td>\n",
       "      <td>-1.571182</td>\n",
       "      <td>-0.503550</td>\n",
       "      <td>1.618522e-16</td>\n",
       "      <td>-5.218983e-01</td>\n",
       "      <td>-0.568928</td>\n",
       "      <td>-0.427702</td>\n",
       "      <td>-0.528370</td>\n",
       "      <td>-0.330381</td>\n",
       "      <td>...</td>\n",
       "      <td>-0.623582</td>\n",
       "      <td>-0.718353</td>\n",
       "      <td>-0.684963</td>\n",
       "      <td>-0.697164</td>\n",
       "      <td>0.000000</td>\n",
       "      <td>-0.663657</td>\n",
       "      <td>-0.676904</td>\n",
       "      <td>-0.696069</td>\n",
       "      <td>-0.694274</td>\n",
       "      <td>-0.670438</td>\n",
       "    </tr>\n",
       "  </tbody>\n",
       "</table>\n",
       "<p>5 rows × 475 columns</p>\n",
       "</div>"
      ],
      "text/plain": [
       "   valence  subject     epoch       Fpz           Fp1           Fp2       AF3  \\\n",
       "0        1      0.0 -1.697955 -0.423165 -6.057874e-01 -5.734662e-01 -0.500007   \n",
       "1        0      0.0 -1.666262 -0.423165 -4.649070e-01 -4.533364e-01 -0.482284   \n",
       "2        0      0.0 -1.634569 -0.499531 -4.641243e-01 -5.060763e-01 -0.525606   \n",
       "3        0      0.0 -1.602875 -0.407088 -6.237888e-01 -1.211817e-16 -0.446838   \n",
       "4        0      0.0 -1.571182 -0.503550  1.618522e-16 -5.218983e-01 -0.568928   \n",
       "\n",
       "        AF4       AF7       AF8  ...    POz_NE    PO3_NE    PO4_NE    PO5_NE  \\\n",
       "0 -0.401138 -0.491678 -0.468914  ...  0.019342  0.024959  0.038193  0.050286   \n",
       "1 -0.376234 -0.347845 -0.243932  ... -1.006514 -1.011093 -0.993473 -0.980820   \n",
       "2 -0.394497 -0.363989 -0.403406  ... -0.818488 -0.824712 -0.803325 -0.818002   \n",
       "3 -0.449286 -0.570199 -0.500057  ... -0.009605  0.000634 -0.011536 -0.009623   \n",
       "4 -0.427702 -0.528370 -0.330381  ... -0.623582 -0.718353 -0.684963 -0.697164   \n",
       "\n",
       "     PO6_NE    PO7_NE    PO8_NE     Oz_NE     O1_NE     O2_NE  \n",
       "0  0.032108  0.064969  0.040938  0.010701  0.036298  0.007060  \n",
       "1 -0.970266 -0.856874 -0.876288 -0.925490 -0.892299 -0.915992  \n",
       "2 -0.810247 -0.793231 -0.694275 -0.741731 -0.708569 -0.732519  \n",
       "3 -0.019682  0.008133 -0.006551 -0.012194  0.021092 -0.040917  \n",
       "4  0.000000 -0.663657 -0.676904 -0.696069 -0.694274 -0.670438  \n",
       "\n",
       "[5 rows x 475 columns]"
      ]
     },
     "execution_count": 12,
     "metadata": {},
     "output_type": "execute_result"
    }
   ],
   "source": [
    "normalizer(missing_value_handler(df)).head()"
   ]
  },
  {
   "cell_type": "markdown",
   "metadata": {},
   "source": [
    "### Data Balancing :"
   ]
  },
  {
   "cell_type": "markdown",
   "metadata": {},
   "source": [
    "hint: you can use `imblearn` library."
   ]
  },
  {
   "cell_type": "code",
   "execution_count": 13,
   "metadata": {},
   "outputs": [],
   "source": [
    "def balancer(df):\n",
    "    \n",
    "    balanced_dataset = df.copy()\n",
    "    smote = SMOTE()\n",
    "\n",
    "    X = balanced_dataset.drop('valence', axis=1)\n",
    "    Y = balanced_dataset['valence']\n",
    "\n",
    "    X_resampled , Y_resampled = smote.fit_resample(X, Y)\n",
    "    balanced_dataset = pd.concat([Y_resampled, X_resampled], axis=1)\n",
    "\n",
    "    return balanced_dataset"
   ]
  },
  {
   "cell_type": "code",
   "execution_count": 14,
   "metadata": {},
   "outputs": [
    {
     "data": {
      "text/html": [
       "<div>\n",
       "<style scoped>\n",
       "    .dataframe tbody tr th:only-of-type {\n",
       "        vertical-align: middle;\n",
       "    }\n",
       "\n",
       "    .dataframe tbody tr th {\n",
       "        vertical-align: top;\n",
       "    }\n",
       "\n",
       "    .dataframe thead th {\n",
       "        text-align: right;\n",
       "    }\n",
       "</style>\n",
       "<table border=\"1\" class=\"dataframe\">\n",
       "  <thead>\n",
       "    <tr style=\"text-align: right;\">\n",
       "      <th></th>\n",
       "      <th>valence</th>\n",
       "      <th>subject</th>\n",
       "      <th>epoch</th>\n",
       "      <th>Fpz</th>\n",
       "      <th>Fp1</th>\n",
       "      <th>Fp2</th>\n",
       "      <th>AF3</th>\n",
       "      <th>AF4</th>\n",
       "      <th>AF7</th>\n",
       "      <th>AF8</th>\n",
       "      <th>...</th>\n",
       "      <th>POz_NE</th>\n",
       "      <th>PO3_NE</th>\n",
       "      <th>PO4_NE</th>\n",
       "      <th>PO5_NE</th>\n",
       "      <th>PO6_NE</th>\n",
       "      <th>PO7_NE</th>\n",
       "      <th>PO8_NE</th>\n",
       "      <th>Oz_NE</th>\n",
       "      <th>O1_NE</th>\n",
       "      <th>O2_NE</th>\n",
       "    </tr>\n",
       "  </thead>\n",
       "  <tbody>\n",
       "    <tr>\n",
       "      <th>2689</th>\n",
       "      <td>0</td>\n",
       "      <td>0.944444</td>\n",
       "      <td>-1.263043</td>\n",
       "      <td>-0.289924</td>\n",
       "      <td>-0.249440</td>\n",
       "      <td>-0.225386</td>\n",
       "      <td>1.820206</td>\n",
       "      <td>0.498059</td>\n",
       "      <td>-0.412173</td>\n",
       "      <td>-0.515709</td>\n",
       "      <td>...</td>\n",
       "      <td>-1.186966</td>\n",
       "      <td>-1.130406</td>\n",
       "      <td>-1.111907</td>\n",
       "      <td>-1.191562</td>\n",
       "      <td>-1.164841</td>\n",
       "      <td>-1.192500</td>\n",
       "      <td>-1.098098</td>\n",
       "      <td>-1.135249</td>\n",
       "      <td>-1.189132</td>\n",
       "      <td>-1.128964</td>\n",
       "    </tr>\n",
       "    <tr>\n",
       "      <th>2690</th>\n",
       "      <td>0</td>\n",
       "      <td>0.055556</td>\n",
       "      <td>-0.430935</td>\n",
       "      <td>-0.286702</td>\n",
       "      <td>-0.130992</td>\n",
       "      <td>0.111285</td>\n",
       "      <td>0.544233</td>\n",
       "      <td>0.185620</td>\n",
       "      <td>0.069199</td>\n",
       "      <td>0.486662</td>\n",
       "      <td>...</td>\n",
       "      <td>-0.524369</td>\n",
       "      <td>-0.553797</td>\n",
       "      <td>-0.487183</td>\n",
       "      <td>-0.557987</td>\n",
       "      <td>-0.589557</td>\n",
       "      <td>-0.587433</td>\n",
       "      <td>-0.616425</td>\n",
       "      <td>-0.588673</td>\n",
       "      <td>-0.565123</td>\n",
       "      <td>-0.621234</td>\n",
       "    </tr>\n",
       "    <tr>\n",
       "      <th>2691</th>\n",
       "      <td>0</td>\n",
       "      <td>0.222222</td>\n",
       "      <td>-0.852282</td>\n",
       "      <td>-0.686949</td>\n",
       "      <td>-0.752835</td>\n",
       "      <td>-0.717488</td>\n",
       "      <td>-0.753510</td>\n",
       "      <td>-0.663415</td>\n",
       "      <td>-0.611026</td>\n",
       "      <td>-0.597616</td>\n",
       "      <td>...</td>\n",
       "      <td>-0.583117</td>\n",
       "      <td>-0.629229</td>\n",
       "      <td>-0.545386</td>\n",
       "      <td>-0.620417</td>\n",
       "      <td>-0.643864</td>\n",
       "      <td>-0.597425</td>\n",
       "      <td>-0.534548</td>\n",
       "      <td>-0.573381</td>\n",
       "      <td>-0.536702</td>\n",
       "      <td>-0.567971</td>\n",
       "    </tr>\n",
       "    <tr>\n",
       "      <th>2692</th>\n",
       "      <td>0</td>\n",
       "      <td>0.555556</td>\n",
       "      <td>-0.792537</td>\n",
       "      <td>-0.199946</td>\n",
       "      <td>0.949385</td>\n",
       "      <td>1.493919</td>\n",
       "      <td>0.442906</td>\n",
       "      <td>1.433443</td>\n",
       "      <td>-0.239225</td>\n",
       "      <td>1.677508</td>\n",
       "      <td>...</td>\n",
       "      <td>0.330482</td>\n",
       "      <td>0.331896</td>\n",
       "      <td>0.342967</td>\n",
       "      <td>0.334312</td>\n",
       "      <td>0.339063</td>\n",
       "      <td>0.341025</td>\n",
       "      <td>0.451288</td>\n",
       "      <td>0.408869</td>\n",
       "      <td>0.309721</td>\n",
       "      <td>0.430022</td>\n",
       "    </tr>\n",
       "    <tr>\n",
       "      <th>2693</th>\n",
       "      <td>0</td>\n",
       "      <td>0.277778</td>\n",
       "      <td>0.263872</td>\n",
       "      <td>-0.591908</td>\n",
       "      <td>-0.527870</td>\n",
       "      <td>-0.567897</td>\n",
       "      <td>-0.686347</td>\n",
       "      <td>-0.653125</td>\n",
       "      <td>-0.543606</td>\n",
       "      <td>-0.573464</td>\n",
       "      <td>...</td>\n",
       "      <td>1.021453</td>\n",
       "      <td>1.056825</td>\n",
       "      <td>1.104036</td>\n",
       "      <td>1.040588</td>\n",
       "      <td>1.028737</td>\n",
       "      <td>1.054682</td>\n",
       "      <td>1.026287</td>\n",
       "      <td>1.060350</td>\n",
       "      <td>1.063321</td>\n",
       "      <td>1.054590</td>\n",
       "    </tr>\n",
       "  </tbody>\n",
       "</table>\n",
       "<p>5 rows × 475 columns</p>\n",
       "</div>"
      ],
      "text/plain": [
       "      valence   subject     epoch       Fpz       Fp1       Fp2       AF3  \\\n",
       "2689        0  0.944444 -1.263043 -0.289924 -0.249440 -0.225386  1.820206   \n",
       "2690        0  0.055556 -0.430935 -0.286702 -0.130992  0.111285  0.544233   \n",
       "2691        0  0.222222 -0.852282 -0.686949 -0.752835 -0.717488 -0.753510   \n",
       "2692        0  0.555556 -0.792537 -0.199946  0.949385  1.493919  0.442906   \n",
       "2693        0  0.277778  0.263872 -0.591908 -0.527870 -0.567897 -0.686347   \n",
       "\n",
       "           AF4       AF7       AF8  ...    POz_NE    PO3_NE    PO4_NE  \\\n",
       "2689  0.498059 -0.412173 -0.515709  ... -1.186966 -1.130406 -1.111907   \n",
       "2690  0.185620  0.069199  0.486662  ... -0.524369 -0.553797 -0.487183   \n",
       "2691 -0.663415 -0.611026 -0.597616  ... -0.583117 -0.629229 -0.545386   \n",
       "2692  1.433443 -0.239225  1.677508  ...  0.330482  0.331896  0.342967   \n",
       "2693 -0.653125 -0.543606 -0.573464  ...  1.021453  1.056825  1.104036   \n",
       "\n",
       "        PO5_NE    PO6_NE    PO7_NE    PO8_NE     Oz_NE     O1_NE     O2_NE  \n",
       "2689 -1.191562 -1.164841 -1.192500 -1.098098 -1.135249 -1.189132 -1.128964  \n",
       "2690 -0.557987 -0.589557 -0.587433 -0.616425 -0.588673 -0.565123 -0.621234  \n",
       "2691 -0.620417 -0.643864 -0.597425 -0.534548 -0.573381 -0.536702 -0.567971  \n",
       "2692  0.334312  0.339063  0.341025  0.451288  0.408869  0.309721  0.430022  \n",
       "2693  1.040588  1.028737  1.054682  1.026287  1.060350  1.063321  1.054590  \n",
       "\n",
       "[5 rows x 475 columns]"
      ]
     },
     "execution_count": 14,
     "metadata": {},
     "output_type": "execute_result"
    }
   ],
   "source": [
    "balanced_df = balancer(normalizer(missing_value_handler(df)))\n",
    "balanced_df.tail()"
   ]
  },
  {
   "cell_type": "code",
   "execution_count": 15,
   "metadata": {},
   "outputs": [
    {
     "name": "stdout",
     "output_type": "stream",
     "text": [
      "696 1347\n"
     ]
    }
   ],
   "source": [
    "print(len(df[df['valence'] == 0]), len(df[df['valence'] == 1]))"
   ]
  },
  {
   "cell_type": "code",
   "execution_count": 16,
   "metadata": {},
   "outputs": [
    {
     "name": "stdout",
     "output_type": "stream",
     "text": [
      "1347 1347\n"
     ]
    }
   ],
   "source": [
    "print(len(balanced_df[balanced_df['valence'] == 0]), len(balanced_df[balanced_df['valence'] == 1]))"
   ]
  },
  {
   "cell_type": "markdown",
   "metadata": {},
   "source": [
    "## Feature selection"
   ]
  },
  {
   "cell_type": "code",
   "execution_count": 65,
   "metadata": {},
   "outputs": [],
   "source": [
    "def feature_selector(df):\n",
    "\n",
    "    selected_df = df.copy()\n",
    "    X = selected_df.drop('valence', axis=1)\n",
    "    Y = selected_df['valence']\n",
    "\n",
    "    clf = LGBMClassifier(verbose= -100)\n",
    "    rfe = RFE(clf, n_features_to_select=200, step=8)\n",
    "    rfe.fit(X, Y)\n",
    "\n",
    "    X = pd.DataFrame(rfe.transform(X))\n",
    "    selected_df = pd.concat([Y, X], axis=1)\n",
    "    \n",
    "    return selected_df"
   ]
  },
  {
   "cell_type": "markdown",
   "metadata": {},
   "source": [
    "---\n"
   ]
  },
  {
   "cell_type": "code",
   "execution_count": 18,
   "metadata": {},
   "outputs": [
    {
     "data": {
      "text/plain": [
       "475"
      ]
     },
     "execution_count": 18,
     "metadata": {},
     "output_type": "execute_result"
    }
   ],
   "source": [
    "len(df.columns)"
   ]
  },
  {
   "cell_type": "code",
   "execution_count": 66,
   "metadata": {},
   "outputs": [
    {
     "data": {
      "text/plain": [
       "201"
      ]
     },
     "execution_count": 66,
     "metadata": {},
     "output_type": "execute_result"
    }
   ],
   "source": [
    "len(feature_selector(balanced_df).columns)"
   ]
  },
  {
   "cell_type": "markdown",
   "metadata": {},
   "source": [
    "Prepare your dataset :\n"
   ]
  },
  {
   "cell_type": "code",
   "execution_count": 67,
   "metadata": {},
   "outputs": [],
   "source": [
    "df_wm = missing_value_handler(df)\n",
    "df_wm_normlized =  normalizer(df_wm)\n",
    "df_wm_normlized_balenced = balancer(df_wm_normlized)\n",
    "df_new = feature_selector(df_wm_normlized_balenced)"
   ]
  },
  {
   "cell_type": "markdown",
   "metadata": {},
   "source": [
    "### Split the dataset into training and testing sets"
   ]
  },
  {
   "cell_type": "markdown",
   "metadata": {},
   "source": [
    "hint: you can use `sklearn.model_selection.train_test_split`"
   ]
  },
  {
   "cell_type": "code",
   "execution_count": 68,
   "metadata": {},
   "outputs": [],
   "source": [
    "X = df_new.drop('valence', axis=1)\n",
    "y = df_new['valence']\n",
    "\n",
    "X_train, X_test, y_train, y_test = train_test_split(X, y, test_size=0.3, shuffle=True)"
   ]
  },
  {
   "cell_type": "markdown",
   "metadata": {},
   "source": [
    "### model selection and training "
   ]
  },
  {
   "cell_type": "markdown",
   "metadata": {},
   "source": [
    "LightGBM Classifier"
   ]
  },
  {
   "cell_type": "code",
   "execution_count": 70,
   "metadata": {},
   "outputs": [],
   "source": [
    "lgbm_classifier = LGBMClassifier(verbose= -100)\n",
    "lgbm_classifier.fit(X_train, y_train)\n",
    "y_pred1 = lgbm_classifier.predict(X_test)"
   ]
  },
  {
   "cell_type": "markdown",
   "metadata": {},
   "source": [
    "Random Forest Classifier"
   ]
  },
  {
   "cell_type": "code",
   "execution_count": 71,
   "metadata": {},
   "outputs": [],
   "source": [
    "random_forest = RandomForestClassifier(n_estimators=250)\n",
    "random_forest.fit(X_train, y_train)\n",
    "y_pred2 = random_forest.predict(X_test)"
   ]
  },
  {
   "cell_type": "markdown",
   "metadata": {},
   "source": [
    "Support Vector Machine"
   ]
  },
  {
   "cell_type": "code",
   "execution_count": 72,
   "metadata": {},
   "outputs": [],
   "source": [
    "svm = SVC()\n",
    "svm.fit(X_train, y_train)\n",
    "y_pred3 = svm.predict(X_test)"
   ]
  },
  {
   "cell_type": "markdown",
   "metadata": {},
   "source": [
    "Multi-Layer Perceptron Classifier"
   ]
  },
  {
   "cell_type": "code",
   "execution_count": 73,
   "metadata": {},
   "outputs": [],
   "source": [
    "mlp = MLPClassifier(max_iter= 1000)\n",
    "mlp.fit(X_train, y_train)\n",
    "y_pred4 = mlp.predict(X_test)"
   ]
  },
  {
   "cell_type": "markdown",
   "metadata": {},
   "source": [
    "## model evaluation"
   ]
  },
  {
   "cell_type": "markdown",
   "metadata": {},
   "source": [
    "LightGBM Classifier"
   ]
  },
  {
   "cell_type": "code",
   "execution_count": 74,
   "metadata": {},
   "outputs": [
    {
     "name": "stdout",
     "output_type": "stream",
     "text": [
      "f1 score: 0.85 - accuracy score: 0.85\n"
     ]
    }
   ],
   "source": [
    "print(\"f1 score:\", round(f1_score(y_test, y_pred1), 2), \"- accuracy score:\", round(accuracy_score(y_test, y_pred1), 2))"
   ]
  },
  {
   "cell_type": "markdown",
   "metadata": {},
   "source": [
    "Random Forest Classifier"
   ]
  },
  {
   "cell_type": "code",
   "execution_count": 75,
   "metadata": {},
   "outputs": [
    {
     "name": "stdout",
     "output_type": "stream",
     "text": [
      "f1 score: 0.85 - accuracy score: 0.85\n"
     ]
    }
   ],
   "source": [
    "print(\"f1 score:\", round(f1_score(y_test, y_pred2), 2), \"- accuracy score:\",  round(accuracy_score(y_test, y_pred2), 2))"
   ]
  },
  {
   "cell_type": "markdown",
   "metadata": {},
   "source": [
    "Support Vector Machine"
   ]
  },
  {
   "cell_type": "code",
   "execution_count": 76,
   "metadata": {},
   "outputs": [
    {
     "name": "stdout",
     "output_type": "stream",
     "text": [
      "f1 score: 0.81 - accuracy score: 0.81\n"
     ]
    }
   ],
   "source": [
    "print(\"f1 score:\", round(f1_score(y_test, y_pred3), 2), \"- accuracy score:\",  round(accuracy_score(y_test, y_pred3), 2))"
   ]
  },
  {
   "cell_type": "markdown",
   "metadata": {},
   "source": [
    "Multi-Layer Perceptron Classifier"
   ]
  },
  {
   "cell_type": "code",
   "execution_count": 77,
   "metadata": {},
   "outputs": [
    {
     "name": "stdout",
     "output_type": "stream",
     "text": [
      "f1 score: 0.84 - accuracy score: 0.84\n"
     ]
    }
   ],
   "source": [
    "print(\"f1 score:\", round(f1_score(y_test, y_pred4), 2), \"- accuracy score:\",  round(accuracy_score(y_test, y_pred4), 2))"
   ]
  },
  {
   "cell_type": "markdown",
   "metadata": {},
   "source": [
    "### plot confusion matrix to evaluate your resualt "
   ]
  },
  {
   "cell_type": "markdown",
   "metadata": {},
   "source": [
    "A confusion matrix is a table that is used to evaluate the performance of a classification model by comparing the predicted class labels to the actual class labels. The table consists of four cells: true positives (TP), true negatives (TN), false positives (FP), and false negatives (FN). \n",
    "\n",
    "True positives are the cases where the model correctly predicted the positive class, while true negatives are the cases where the model correctly predicted the negative class. False positives are the cases where the model incorrectly predicted the positive class, and false negatives are the cases where the model incorrectly predicted the negative class. \n",
    "\n",
    "The confusion matrix allows us to calculate several metrics, such as accuracy, precision, recall, and F1 score, which are useful in evaluating the performance of a classification model and gaining insights into its strengths and weaknesses"
   ]
  },
  {
   "cell_type": "code",
   "execution_count": 34,
   "metadata": {},
   "outputs": [],
   "source": [
    "import tensorflow as tf\n",
    "\n",
    "def plot_confusion_mat(y_test,y_pred):\n",
    "    confusion_mtx = tf.math.confusion_matrix(y_test, y_pred)\n",
    "    plt.figure(figsize=(10, 8))\n",
    "    sns.heatmap(confusion_mtx,\n",
    "                xticklabels=['Negetive','Positive'],\n",
    "                yticklabels=['Negetive','Positive'],\n",
    "                annot=True, fmt='g',\n",
    "                cbar_kws={'label': r''})\n",
    "    plt.xlabel('Prediction')\n",
    "    plt.ylabel('True label')\n",
    "    plt.title(f'Classification results for {len(y_test)} samples')\n",
    "    plt.show()   "
   ]
  },
  {
   "cell_type": "markdown",
   "metadata": {},
   "source": [
    "the code above needs tensorfelow library `tf`\n",
    "\n",
    "you can use the altranative : \n",
    "\n",
    "`sklearn.metrics.confusion_matrix(y_true, y_pred, *, labels=None, sample_weight=None, normalize=None)`"
   ]
  },
  {
   "cell_type": "markdown",
   "metadata": {},
   "source": [
    "LightGBM Classifier"
   ]
  },
  {
   "cell_type": "code",
   "execution_count": 78,
   "metadata": {},
   "outputs": [
    {
     "data": {
      "image/png": "[encoded data removed]",
      "text/plain": [
       "<Figure size 1000x800 with 2 Axes>"
      ]
     },
     "metadata": {},
     "output_type": "display_data"
    }
   ],
   "source": [
    "plot_confusion_mat(y_test, y_pred1)"
   ]
  },
  {
   "cell_type": "markdown",
   "metadata": {},
   "source": [
    "Random Forest Classifier"
   ]
  },
  {
   "cell_type": "code",
   "execution_count": 79,
   "metadata": {},
   "outputs": [
    {
     "data": {
      "image/png": "[encoded data removed]",
      "text/plain": [
       "<Figure size 1000x800 with 2 Axes>"
      ]
     },
     "metadata": {},
     "output_type": "display_data"
    }
   ],
   "source": [
    "plot_confusion_mat(y_test, y_pred2)"
   ]
  },
  {
   "cell_type": "markdown",
   "metadata": {},
   "source": [
    "Support Vector Machine"
   ]
  },
  {
   "cell_type": "code",
   "execution_count": 80,
   "metadata": {},
   "outputs": [
    {
     "data": {
      "image/png": "[encoded data removed]",
      "text/plain": [
       "<Figure size 1000x800 with 2 Axes>"
      ]
     },
     "metadata": {},
     "output_type": "display_data"
    }
   ],
   "source": [
    "plot_confusion_mat(y_test, y_pred3)"
   ]
  },
  {
   "cell_type": "markdown",
   "metadata": {},
   "source": [
    "Multi-Layer Perceptron Classifier"
   ]
  },
  {
   "cell_type": "code",
   "execution_count": 81,
   "metadata": {},
   "outputs": [
    {
     "data": {
      "image/png": "[encoded data removed]",
      "text/plain": [
       "<Figure size 1000x800 with 2 Axes>"
      ]
     },
     "metadata": {},
     "output_type": "display_data"
    }
   ],
   "source": [
    "plot_confusion_mat(y_test, y_pred4)"
   ]
  }
 ],
 "metadata": {
  "kernelspec": {
   "display_name": "Python 3.9.17 ('alzheimer')",
   "language": "python",
   "name": "python3"
  },
  "language_info": {
   "codemirror_mode": {
    "name": "ipython",
    "version": 3
   },
   "file_extension": ".py",
   "mimetype": "text/x-python",
   "name": "python",
   "nbconvert_exporter": "python",
   "pygments_lexer": "ipython3",
   "version": "3.11.5"
  },
  "orig_nbformat": 4,
  "vscode": {
   "interpreter": {
    "hash": "25b05e4795a1531d3b55a0058bc302082de6595a5bd8f40643b8c42ae422adc8"
   }
  }
 },
 "nbformat": 4,
 "nbformat_minor": 2
}
