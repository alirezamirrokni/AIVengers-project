{
 "cells": [
  {
   "cell_type": "markdown",
   "metadata": {},
   "source": [
    "\n",
    "<div style=\"text-align:center;line-height:300%;\">\n",
    "<font face=\"XB Zar\" size=7>\n",
    "<h4>Machine Learning Project</h4>\n",
    "  </font>\n",
    "</div>\n",
    "\n",
    "\n",
    "<div style=\"text-align:center;direction:ltr;line-height:300%;\">\n",
    "<font face=\"XB Zar\" size=3>\n",
    "<h1> AIVengers  </h1>\n",
    "  </font>\n",
    "</div>\n",
    "<div style=\"text-align:center;direction:ltr;line-height:300%;\">\n",
    "<font face=\"XB Zar\" size=3>\n",
    "<h1> EEG valence classification  </h1>\n",
    "  </font>\n",
    "</div>\n",
    "\n",
    "\n",
    "\n",
    "\n"
   ]
  },
  {
   "cell_type": "markdown",
   "metadata": {},
   "source": [
    "## Project description"
   ]
  },
  {
   "cell_type": "markdown",
   "metadata": {},
   "source": [
    "\n",
    "**Objective**:\n",
    "\n",
    "\n",
    "The objective of this project is to design a machine learning model that can classify the valence (positive or negative) of EEG channel features. The dataset consists of features such as PSD (Power Spectral Density) and PLV (Phase Locking Value) extracted from EEG signals .\n",
    "\n",
    "note : you don't need to know what exactly these PLV and PSD are , just use them as some features for classification task.\n",
    "\n",
    "**Dataset**:\n",
    "\n",
    "\n",
    "The dataset contains a collection of EEG channel features, including PSD and PLV features. Each sample in the dataset represents a specific EEG recording, and the corresponding label indicates the valence (positive(1) or negative(0)) associated with that recording.\n",
    "\n",
    "**Recommended Approach**:\n",
    "1. Data Preprocessing:\n",
    "    - Load the dataset and perform any necessary data cleaning such as handling missing values , data normalization, data balancing.\n",
    "        - handling missing values\n",
    "            1. Drop the rows with missing values: This is the simplest solution, but it can result in a significant loss of data.\n",
    "            2. Drop the columns with missing values: If a particular feature has a lot of missing values, you may choose to drop the entire column instead of imputing the missing values.\n",
    "            3. `Impute missing values with mean, median, or mode`: This involves replacing missing values with a summary statistic, such as the mean, median, or mode of the feature. This is a common approach for numerical data.\n",
    "        - Data normalization is a process of organizing data in a database in such a way that it reduces redundancy and dependency among different tables. It is a technique to create modular, scalable, and maintainable database structures. The basic idea behind normalization is to divide a larger table into smaller tables and define relationships between them. This helps to eliminate data redundancies and inconsistencies which can lead to data anomalies and make it difficult to update, delete or insert data. A well-normalized database ensures data integrity and accuracy and makes it easier to query and analyze data.\n",
    "            - `Data normalization with z-score`, also known as standardization, is a statistical process of rescaling a dataset so that it has a mean of 0 and a standard deviation of \n",
    "            - more information : https://www.statology.org/z-score-normalization/\n",
    "        - There are many approaches to random resampling for imbalanced classification\n",
    "            1. Random Oversampling: Randomly duplicate examples in the minority class.\n",
    "            2. Random `Undersampling`: Randomly delete examples in the majority class\n",
    "            - `smote-oversampling` : https://machinelearningmastery.com/smote-oversampling-for-imbalanced-classification/\n",
    "\n",
    "2. Feature Selection:\n",
    "    - Select the most informative features using techniques like \n",
    "        1. Recursive Feature Elimination (RFE): This method eliminates features iteratively by training a model and removing the least important feature until a specified number of features is reached.\n",
    "        2. Correlation-based Feature Selection (CFS): This method removes features that are highly correlated with one another, prioritizing features that are highly correlated with the target variable.\n",
    "        3. Principal Component Analysis (PCA): This method creates new features that are linear combinations of the original features while maximizing the variance in the data. It selects the new features which explain the most variance in the data.\n",
    "        4. Tree-based Feature Selection: This method is based on decision trees and uses feature importance scores to select the most important features.\n",
    "        5. Mutual Information-based Selection: This method measures the level of dependence between features and the target variable to select the most informative features.\n",
    "        6. L1 Regularization: This method penalizes high-valued coefficients in a linear model to force them to zero. This results in sparse coefficients and selects only the most important features.\n",
    "    - is it recommended to use `fisher feature selection` :\n",
    "        - Fisher feature selection is a method for selecting a subset of relevant features in a dataset that are most discriminative for classification tasks. It is based on the Fisher's discriminant ratio, which measures the separation between classes in terms of the means and variances of the feature values. Essentially, it calculates the ratio of the between-class variance to the within-class variance for each feature and selects the subset of features with the highest ratio.\n",
    "3. Model Selection and Training:\n",
    "    - Split the dataset into training and testing sets to evaluate the model's performance.\n",
    "    - Choose atleast `3` classical machine learning algorithms such as `Support Vector Machines (SVM), Logistic Regression (LR), Random Forest, Multi-layer Perceptron classifie(MLP), Gaussian naive bayes`, etc.\n",
    "    - Train each model using the training dataset and tune hyperparameters if necessary.\n",
    "\n",
    "\n",
    "4. Model Evaluation:\n",
    "    - Use the selected model to predict the valence of EEG channel features in the testing dataset.\n",
    "    - Evaluate the model's performance on the testing dataset using evaluation metrics such as accuracy, precision, recall, and F1-score.\n",
    "    - optional : use cross-validation evaluation \n",
    "   \n",
    "\n",
    "5. Model Comparison and Selection:\n",
    "    - Compare the performance of different models based on evaluation metrics.\n",
    "    - Select the best-performing model for valence classification.\n",
    "\n",
    "\n"
   ]
  },
  {
   "cell_type": "markdown",
   "metadata": {},
   "source": [
    "---"
   ]
  },
  {
   "cell_type": "markdown",
   "metadata": {},
   "source": [
    "Import needed libraries :"
   ]
  },
  {
   "cell_type": "code",
   "execution_count": 108,
   "metadata": {},
   "outputs": [],
   "source": [
    "import numpy as np\n",
    "import pandas as pd\n",
    "import matplotlib.pyplot as plt\n",
    "from lightgbm import LGBMClassifier\n",
    "from sklearn.ensemble import RandomForestClassifier\n",
    "from sklearn.neural_network import MLPClassifier\n",
    "from sklearn.svm import SVC\n",
    "from sklearn.preprocessing import StandardScaler, MinMaxScaler, LabelEncoder\n",
    "from sklearn.impute import KNNImputer\n",
    "from sklearn.model_selection import train_test_split, KFold, cross_val_score\n",
    "from sklearn.feature_selection import RFE\n",
    "from sklearn.metrics import f1_score, accuracy_score, roc_auc_score, roc_curve\n",
    "from sklearn.decomposition import PCA\n",
    "from imblearn.over_sampling import SMOTE\n",
    "import seaborn as sns "
   ]
  },
  {
   "cell_type": "code",
   "execution_count": 109,
   "metadata": {},
   "outputs": [],
   "source": [
    "import warnings\n",
    "warnings.filterwarnings(\"ignore\")"
   ]
  },
  {
   "cell_type": "markdown",
   "metadata": {},
   "source": [
    "load dataset :"
   ]
  },
  {
   "cell_type": "code",
   "execution_count": 110,
   "metadata": {},
   "outputs": [],
   "source": [
    "df = pd.read_csv(\"dataset.csv\")"
   ]
  },
  {
   "cell_type": "code",
   "execution_count": 111,
   "metadata": {},
   "outputs": [
    {
     "data": {
      "text/html": [
       "<div>\n",
       "<style scoped>\n",
       "    .dataframe tbody tr th:only-of-type {\n",
       "        vertical-align: middle;\n",
       "    }\n",
       "\n",
       "    .dataframe tbody tr th {\n",
       "        vertical-align: top;\n",
       "    }\n",
       "\n",
       "    .dataframe thead th {\n",
       "        text-align: right;\n",
       "    }\n",
       "</style>\n",
       "<table border=\"1\" class=\"dataframe\">\n",
       "  <thead>\n",
       "    <tr style=\"text-align: right;\">\n",
       "      <th></th>\n",
       "      <th>valence</th>\n",
       "      <th>subject</th>\n",
       "      <th>epoch</th>\n",
       "      <th>Fpz</th>\n",
       "      <th>Fp1</th>\n",
       "      <th>Fp2</th>\n",
       "      <th>AF3</th>\n",
       "      <th>AF4</th>\n",
       "      <th>AF7</th>\n",
       "      <th>AF8</th>\n",
       "      <th>...</th>\n",
       "      <th>POz_NE</th>\n",
       "      <th>PO3_NE</th>\n",
       "      <th>PO4_NE</th>\n",
       "      <th>PO5_NE</th>\n",
       "      <th>PO6_NE</th>\n",
       "      <th>PO7_NE</th>\n",
       "      <th>PO8_NE</th>\n",
       "      <th>Oz_NE</th>\n",
       "      <th>O1_NE</th>\n",
       "      <th>O2_NE</th>\n",
       "    </tr>\n",
       "  </thead>\n",
       "  <tbody>\n",
       "    <tr>\n",
       "      <th>0</th>\n",
       "      <td>1</td>\n",
       "      <td>02wxw</td>\n",
       "      <td>0</td>\n",
       "      <td>2.460000e-10</td>\n",
       "      <td>3.270000e-10</td>\n",
       "      <td>3.300000e-10</td>\n",
       "      <td>1.940000e-10</td>\n",
       "      <td>2.150000e-10</td>\n",
       "      <td>3.850000e-10</td>\n",
       "      <td>3.880000e-10</td>\n",
       "      <td>...</td>\n",
       "      <td>16.512890</td>\n",
       "      <td>16.322085</td>\n",
       "      <td>16.447947</td>\n",
       "      <td>16.293350</td>\n",
       "      <td>16.249097</td>\n",
       "      <td>16.419212</td>\n",
       "      <td>16.423235</td>\n",
       "      <td>16.403695</td>\n",
       "      <td>16.384729</td>\n",
       "      <td>16.364039</td>\n",
       "    </tr>\n",
       "    <tr>\n",
       "      <th>1</th>\n",
       "      <td>0</td>\n",
       "      <td>02wxw</td>\n",
       "      <td>1</td>\n",
       "      <td>2.460000e-10</td>\n",
       "      <td>5.070000e-10</td>\n",
       "      <td>5.350000e-10</td>\n",
       "      <td>2.030000e-10</td>\n",
       "      <td>2.300000e-10</td>\n",
       "      <td>5.810000e-10</td>\n",
       "      <td>8.070000e-10</td>\n",
       "      <td>...</td>\n",
       "      <td>11.548358</td>\n",
       "      <td>11.261207</td>\n",
       "      <td>11.408580</td>\n",
       "      <td>11.252011</td>\n",
       "      <td>11.325246</td>\n",
       "      <td>11.919253</td>\n",
       "      <td>11.919253</td>\n",
       "      <td>11.850287</td>\n",
       "      <td>11.867529</td>\n",
       "      <td>11.867529</td>\n",
       "    </tr>\n",
       "    <tr>\n",
       "      <th>2</th>\n",
       "      <td>0</td>\n",
       "      <td>02wxw</td>\n",
       "      <td>2</td>\n",
       "      <td>1.890000e-10</td>\n",
       "      <td>5.080000e-10</td>\n",
       "      <td>4.450000e-10</td>\n",
       "      <td>1.810000e-10</td>\n",
       "      <td>2.190000e-10</td>\n",
       "      <td>5.590000e-10</td>\n",
       "      <td>5.100000e-10</td>\n",
       "      <td>...</td>\n",
       "      <td>12.458292</td>\n",
       "      <td>12.171634</td>\n",
       "      <td>12.337397</td>\n",
       "      <td>12.048071</td>\n",
       "      <td>12.111289</td>\n",
       "      <td>12.229926</td>\n",
       "      <td>12.813013</td>\n",
       "      <td>12.744048</td>\n",
       "      <td>12.761289</td>\n",
       "      <td>12.761289</td>\n",
       "    </tr>\n",
       "    <tr>\n",
       "      <th>3</th>\n",
       "      <td>0</td>\n",
       "      <td>02wxw</td>\n",
       "      <td>3</td>\n",
       "      <td>2.580000e-10</td>\n",
       "      <td>3.040000e-10</td>\n",
       "      <td>NaN</td>\n",
       "      <td>2.210000e-10</td>\n",
       "      <td>1.860000e-10</td>\n",
       "      <td>2.780000e-10</td>\n",
       "      <td>3.300000e-10</td>\n",
       "      <td>...</td>\n",
       "      <td>16.372802</td>\n",
       "      <td>16.203262</td>\n",
       "      <td>16.205041</td>\n",
       "      <td>16.000443</td>\n",
       "      <td>15.994696</td>\n",
       "      <td>16.141767</td>\n",
       "      <td>16.190043</td>\n",
       "      <td>16.292342</td>\n",
       "      <td>16.310759</td>\n",
       "      <td>16.130328</td>\n",
       "    </tr>\n",
       "    <tr>\n",
       "      <th>4</th>\n",
       "      <td>0</td>\n",
       "      <td>02wxw</td>\n",
       "      <td>4</td>\n",
       "      <td>1.860000e-10</td>\n",
       "      <td>NaN</td>\n",
       "      <td>4.180000e-10</td>\n",
       "      <td>1.590000e-10</td>\n",
       "      <td>1.990000e-10</td>\n",
       "      <td>3.350000e-10</td>\n",
       "      <td>6.460000e-10</td>\n",
       "      <td>...</td>\n",
       "      <td>13.401519</td>\n",
       "      <td>12.691174</td>\n",
       "      <td>12.915558</td>\n",
       "      <td>12.638875</td>\n",
       "      <td>NaN</td>\n",
       "      <td>12.862438</td>\n",
       "      <td>12.898317</td>\n",
       "      <td>12.966133</td>\n",
       "      <td>12.830829</td>\n",
       "      <td>13.063711</td>\n",
       "    </tr>\n",
       "  </tbody>\n",
       "</table>\n",
       "<p>5 rows × 475 columns</p>\n",
       "</div>"
      ],
      "text/plain": [
       "   valence subject  epoch           Fpz           Fp1           Fp2  \\\n",
       "0        1   02wxw      0  2.460000e-10  3.270000e-10  3.300000e-10   \n",
       "1        0   02wxw      1  2.460000e-10  5.070000e-10  5.350000e-10   \n",
       "2        0   02wxw      2  1.890000e-10  5.080000e-10  4.450000e-10   \n",
       "3        0   02wxw      3  2.580000e-10  3.040000e-10           NaN   \n",
       "4        0   02wxw      4  1.860000e-10           NaN  4.180000e-10   \n",
       "\n",
       "            AF3           AF4           AF7           AF8  ...     POz_NE  \\\n",
       "0  1.940000e-10  2.150000e-10  3.850000e-10  3.880000e-10  ...  16.512890   \n",
       "1  2.030000e-10  2.300000e-10  5.810000e-10  8.070000e-10  ...  11.548358   \n",
       "2  1.810000e-10  2.190000e-10  5.590000e-10  5.100000e-10  ...  12.458292   \n",
       "3  2.210000e-10  1.860000e-10  2.780000e-10  3.300000e-10  ...  16.372802   \n",
       "4  1.590000e-10  1.990000e-10  3.350000e-10  6.460000e-10  ...  13.401519   \n",
       "\n",
       "      PO3_NE     PO4_NE     PO5_NE     PO6_NE     PO7_NE     PO8_NE  \\\n",
       "0  16.322085  16.447947  16.293350  16.249097  16.419212  16.423235   \n",
       "1  11.261207  11.408580  11.252011  11.325246  11.919253  11.919253   \n",
       "2  12.171634  12.337397  12.048071  12.111289  12.229926  12.813013   \n",
       "3  16.203262  16.205041  16.000443  15.994696  16.141767  16.190043   \n",
       "4  12.691174  12.915558  12.638875        NaN  12.862438  12.898317   \n",
       "\n",
       "       Oz_NE      O1_NE      O2_NE  \n",
       "0  16.403695  16.384729  16.364039  \n",
       "1  11.850287  11.867529  11.867529  \n",
       "2  12.744048  12.761289  12.761289  \n",
       "3  16.292342  16.310759  16.130328  \n",
       "4  12.966133  12.830829  13.063711  \n",
       "\n",
       "[5 rows x 475 columns]"
      ]
     },
     "execution_count": 111,
     "metadata": {},
     "output_type": "execute_result"
    }
   ],
   "source": [
    "df.head()"
   ]
  },
  {
   "cell_type": "markdown",
   "metadata": {},
   "source": [
    "### removing redundant columns :"
   ]
  },
  {
   "cell_type": "code",
   "execution_count": 112,
   "metadata": {},
   "outputs": [
    {
     "data": {
      "text/html": [
       "<div>\n",
       "<style scoped>\n",
       "    .dataframe tbody tr th:only-of-type {\n",
       "        vertical-align: middle;\n",
       "    }\n",
       "\n",
       "    .dataframe tbody tr th {\n",
       "        vertical-align: top;\n",
       "    }\n",
       "\n",
       "    .dataframe thead th {\n",
       "        text-align: right;\n",
       "    }\n",
       "</style>\n",
       "<table border=\"1\" class=\"dataframe\">\n",
       "  <thead>\n",
       "    <tr style=\"text-align: right;\">\n",
       "      <th></th>\n",
       "      <th>valence</th>\n",
       "      <th>Fpz</th>\n",
       "      <th>Fp1</th>\n",
       "      <th>Fp2</th>\n",
       "      <th>AF3</th>\n",
       "      <th>AF4</th>\n",
       "      <th>AF7</th>\n",
       "      <th>AF8</th>\n",
       "      <th>Fz</th>\n",
       "      <th>F1</th>\n",
       "      <th>...</th>\n",
       "      <th>POz_NE</th>\n",
       "      <th>PO3_NE</th>\n",
       "      <th>PO4_NE</th>\n",
       "      <th>PO5_NE</th>\n",
       "      <th>PO6_NE</th>\n",
       "      <th>PO7_NE</th>\n",
       "      <th>PO8_NE</th>\n",
       "      <th>Oz_NE</th>\n",
       "      <th>O1_NE</th>\n",
       "      <th>O2_NE</th>\n",
       "    </tr>\n",
       "  </thead>\n",
       "  <tbody>\n",
       "    <tr>\n",
       "      <th>0</th>\n",
       "      <td>1</td>\n",
       "      <td>2.460000e-10</td>\n",
       "      <td>3.270000e-10</td>\n",
       "      <td>3.300000e-10</td>\n",
       "      <td>1.940000e-10</td>\n",
       "      <td>2.150000e-10</td>\n",
       "      <td>3.850000e-10</td>\n",
       "      <td>3.880000e-10</td>\n",
       "      <td>2.370000e-10</td>\n",
       "      <td>1.640000e-10</td>\n",
       "      <td>...</td>\n",
       "      <td>16.512890</td>\n",
       "      <td>16.322085</td>\n",
       "      <td>16.447947</td>\n",
       "      <td>16.293350</td>\n",
       "      <td>16.249097</td>\n",
       "      <td>16.419212</td>\n",
       "      <td>16.423235</td>\n",
       "      <td>16.403695</td>\n",
       "      <td>16.384729</td>\n",
       "      <td>16.364039</td>\n",
       "    </tr>\n",
       "    <tr>\n",
       "      <th>1</th>\n",
       "      <td>0</td>\n",
       "      <td>2.460000e-10</td>\n",
       "      <td>5.070000e-10</td>\n",
       "      <td>5.350000e-10</td>\n",
       "      <td>2.030000e-10</td>\n",
       "      <td>2.300000e-10</td>\n",
       "      <td>5.810000e-10</td>\n",
       "      <td>8.070000e-10</td>\n",
       "      <td>1.580000e-10</td>\n",
       "      <td>NaN</td>\n",
       "      <td>...</td>\n",
       "      <td>11.548358</td>\n",
       "      <td>11.261207</td>\n",
       "      <td>11.408580</td>\n",
       "      <td>11.252011</td>\n",
       "      <td>11.325246</td>\n",
       "      <td>11.919253</td>\n",
       "      <td>11.919253</td>\n",
       "      <td>11.850287</td>\n",
       "      <td>11.867529</td>\n",
       "      <td>11.867529</td>\n",
       "    </tr>\n",
       "    <tr>\n",
       "      <th>2</th>\n",
       "      <td>0</td>\n",
       "      <td>1.890000e-10</td>\n",
       "      <td>5.080000e-10</td>\n",
       "      <td>4.450000e-10</td>\n",
       "      <td>1.810000e-10</td>\n",
       "      <td>2.190000e-10</td>\n",
       "      <td>5.590000e-10</td>\n",
       "      <td>5.100000e-10</td>\n",
       "      <td>1.920000e-10</td>\n",
       "      <td>1.540000e-10</td>\n",
       "      <td>...</td>\n",
       "      <td>12.458292</td>\n",
       "      <td>12.171634</td>\n",
       "      <td>12.337397</td>\n",
       "      <td>12.048071</td>\n",
       "      <td>12.111289</td>\n",
       "      <td>12.229926</td>\n",
       "      <td>12.813013</td>\n",
       "      <td>12.744048</td>\n",
       "      <td>12.761289</td>\n",
       "      <td>12.761289</td>\n",
       "    </tr>\n",
       "    <tr>\n",
       "      <th>3</th>\n",
       "      <td>0</td>\n",
       "      <td>2.580000e-10</td>\n",
       "      <td>3.040000e-10</td>\n",
       "      <td>NaN</td>\n",
       "      <td>2.210000e-10</td>\n",
       "      <td>1.860000e-10</td>\n",
       "      <td>2.780000e-10</td>\n",
       "      <td>3.300000e-10</td>\n",
       "      <td>1.650000e-10</td>\n",
       "      <td>1.730000e-10</td>\n",
       "      <td>...</td>\n",
       "      <td>16.372802</td>\n",
       "      <td>16.203262</td>\n",
       "      <td>16.205041</td>\n",
       "      <td>16.000443</td>\n",
       "      <td>15.994696</td>\n",
       "      <td>16.141767</td>\n",
       "      <td>16.190043</td>\n",
       "      <td>16.292342</td>\n",
       "      <td>16.310759</td>\n",
       "      <td>16.130328</td>\n",
       "    </tr>\n",
       "    <tr>\n",
       "      <th>4</th>\n",
       "      <td>0</td>\n",
       "      <td>1.860000e-10</td>\n",
       "      <td>NaN</td>\n",
       "      <td>4.180000e-10</td>\n",
       "      <td>1.590000e-10</td>\n",
       "      <td>1.990000e-10</td>\n",
       "      <td>3.350000e-10</td>\n",
       "      <td>6.460000e-10</td>\n",
       "      <td>1.760000e-10</td>\n",
       "      <td>1.240000e-10</td>\n",
       "      <td>...</td>\n",
       "      <td>13.401519</td>\n",
       "      <td>12.691174</td>\n",
       "      <td>12.915558</td>\n",
       "      <td>12.638875</td>\n",
       "      <td>NaN</td>\n",
       "      <td>12.862438</td>\n",
       "      <td>12.898317</td>\n",
       "      <td>12.966133</td>\n",
       "      <td>12.830829</td>\n",
       "      <td>13.063711</td>\n",
       "    </tr>\n",
       "  </tbody>\n",
       "</table>\n",
       "<p>5 rows × 473 columns</p>\n",
       "</div>"
      ],
      "text/plain": [
       "   valence           Fpz           Fp1           Fp2           AF3  \\\n",
       "0        1  2.460000e-10  3.270000e-10  3.300000e-10  1.940000e-10   \n",
       "1        0  2.460000e-10  5.070000e-10  5.350000e-10  2.030000e-10   \n",
       "2        0  1.890000e-10  5.080000e-10  4.450000e-10  1.810000e-10   \n",
       "3        0  2.580000e-10  3.040000e-10           NaN  2.210000e-10   \n",
       "4        0  1.860000e-10           NaN  4.180000e-10  1.590000e-10   \n",
       "\n",
       "            AF4           AF7           AF8            Fz            F1  ...  \\\n",
       "0  2.150000e-10  3.850000e-10  3.880000e-10  2.370000e-10  1.640000e-10  ...   \n",
       "1  2.300000e-10  5.810000e-10  8.070000e-10  1.580000e-10           NaN  ...   \n",
       "2  2.190000e-10  5.590000e-10  5.100000e-10  1.920000e-10  1.540000e-10  ...   \n",
       "3  1.860000e-10  2.780000e-10  3.300000e-10  1.650000e-10  1.730000e-10  ...   \n",
       "4  1.990000e-10  3.350000e-10  6.460000e-10  1.760000e-10  1.240000e-10  ...   \n",
       "\n",
       "      POz_NE     PO3_NE     PO4_NE     PO5_NE     PO6_NE     PO7_NE  \\\n",
       "0  16.512890  16.322085  16.447947  16.293350  16.249097  16.419212   \n",
       "1  11.548358  11.261207  11.408580  11.252011  11.325246  11.919253   \n",
       "2  12.458292  12.171634  12.337397  12.048071  12.111289  12.229926   \n",
       "3  16.372802  16.203262  16.205041  16.000443  15.994696  16.141767   \n",
       "4  13.401519  12.691174  12.915558  12.638875        NaN  12.862438   \n",
       "\n",
       "      PO8_NE      Oz_NE      O1_NE      O2_NE  \n",
       "0  16.423235  16.403695  16.384729  16.364039  \n",
       "1  11.919253  11.850287  11.867529  11.867529  \n",
       "2  12.813013  12.744048  12.761289  12.761289  \n",
       "3  16.190043  16.292342  16.310759  16.130328  \n",
       "4  12.898317  12.966133  12.830829  13.063711  \n",
       "\n",
       "[5 rows x 473 columns]"
      ]
     },
     "execution_count": 112,
     "metadata": {},
     "output_type": "execute_result"
    }
   ],
   "source": [
    "df.drop(['epoch', 'subject'], axis=1, inplace=True)\n",
    "df.head()"
   ]
  },
  {
   "cell_type": "markdown",
   "metadata": {},
   "source": [
    "### missing value haandling :\n"
   ]
  },
  {
   "cell_type": "markdown",
   "metadata": {},
   "source": [
    "hint : you can use `pd.fillna()` method. "
   ]
  },
  {
   "cell_type": "code",
   "execution_count": 113,
   "metadata": {},
   "outputs": [],
   "source": [
    "def missing_value_handler(df):\n",
    "    \"\"\"\n",
    "    Args:\n",
    "        df (pandas.DataFrame): input DataFrame\n",
    "    \n",
    "    return:\n",
    "        new_df (pandas.DataFrame): output DataFrame\n",
    "        \n",
    "    \"\"\"\n",
    "    new_df = df.copy()\n",
    "    number_of_rows = len(new_df.index)\n",
    "    number_of_columns = len(new_df.columns)\n",
    "\n",
    "\n",
    "    new_df.dropna(axis=1, thresh=0.2*number_of_rows, inplace=True)\n",
    "    new_df.dropna(thresh=0.5*number_of_columns, inplace=True)\n",
    "\n",
    "    imputer = KNNImputer(n_neighbors=50)\n",
    "    new_df = pd.DataFrame(imputer.fit_transform(new_df), index= new_df.index, columns=new_df.columns)\n",
    "\n",
    "    return new_df"
   ]
  },
  {
   "cell_type": "code",
   "execution_count": 114,
   "metadata": {},
   "outputs": [
    {
     "data": {
      "text/plain": [
       "67"
      ]
     },
     "execution_count": 114,
     "metadata": {},
     "output_type": "execute_result"
    }
   ],
   "source": [
    "df.isnull().sum().sum()"
   ]
  },
  {
   "cell_type": "code",
   "execution_count": 115,
   "metadata": {},
   "outputs": [
    {
     "data": {
      "text/plain": [
       "0"
      ]
     },
     "execution_count": 115,
     "metadata": {},
     "output_type": "execute_result"
    }
   ],
   "source": [
    "missing_value_handler(df).isnull().sum().sum()"
   ]
  },
  {
   "cell_type": "markdown",
   "metadata": {},
   "source": [
    "### Data normalization :"
   ]
  },
  {
   "cell_type": "markdown",
   "metadata": {},
   "source": [
    "hint: you can use `sklearn.preprocessing.StandardScaler` method.\n"
   ]
  },
  {
   "cell_type": "code",
   "execution_count": 116,
   "metadata": {},
   "outputs": [],
   "source": [
    "def encoder(df):\n",
    "\n",
    "    categorized_df = df.copy()\n",
    "    label_encoder = LabelEncoder()\n",
    "\n",
    "    for column in categorized_df.columns:\n",
    "        if(categorized_df[column].dtype == 'O'):\n",
    "            categorized_df[column] = label_encoder.fit_transform(categorized_df[column])\n",
    "    \n",
    "    return categorized_df\n",
    "    "
   ]
  },
  {
   "cell_type": "code",
   "execution_count": 117,
   "metadata": {},
   "outputs": [],
   "source": [
    "def normalizer(df):\n",
    "\n",
    "    normalized_dataset = df.copy()\n",
    "    normalized_dataset = encoder(normalized_dataset)\n",
    "    standard_scaler = StandardScaler()\n",
    "    minimax_scaler = MinMaxScaler()\n",
    "    numerical_columns = [column for column in normalized_dataset.columns[1:] if normalized_dataset[column].dtype != 'O']\n",
    "\n",
    "    standard_scaler_columns = [column for column in numerical_columns if len(normalized_dataset[column].unique()) > 30]\n",
    "    minimax_scaler_columns = [column for column in numerical_columns if len(normalized_dataset[column].unique()) <= 30]\n",
    "\n",
    "    minimax_scaled_columns = minimax_scaler.fit_transform(normalized_dataset[minimax_scaler_columns])\n",
    "    normalized_dataset[minimax_scaler_columns] = minimax_scaled_columns\n",
    "\n",
    "    standard_scaled_columns = standard_scaler.fit_transform(normalized_dataset[standard_scaler_columns])\n",
    "    normalized_dataset[standard_scaler_columns] = standard_scaled_columns\n",
    "    \n",
    "    return normalized_dataset"
   ]
  },
  {
   "cell_type": "code",
   "execution_count": 118,
   "metadata": {},
   "outputs": [
    {
     "data": {
      "text/html": [
       "<div>\n",
       "<style scoped>\n",
       "    .dataframe tbody tr th:only-of-type {\n",
       "        vertical-align: middle;\n",
       "    }\n",
       "\n",
       "    .dataframe tbody tr th {\n",
       "        vertical-align: top;\n",
       "    }\n",
       "\n",
       "    .dataframe thead th {\n",
       "        text-align: right;\n",
       "    }\n",
       "</style>\n",
       "<table border=\"1\" class=\"dataframe\">\n",
       "  <thead>\n",
       "    <tr style=\"text-align: right;\">\n",
       "      <th></th>\n",
       "      <th>valence</th>\n",
       "      <th>Fpz</th>\n",
       "      <th>Fp1</th>\n",
       "      <th>Fp2</th>\n",
       "      <th>AF3</th>\n",
       "      <th>AF4</th>\n",
       "      <th>AF7</th>\n",
       "      <th>AF8</th>\n",
       "      <th>Fz</th>\n",
       "      <th>F1</th>\n",
       "      <th>...</th>\n",
       "      <th>POz_NE</th>\n",
       "      <th>PO3_NE</th>\n",
       "      <th>PO4_NE</th>\n",
       "      <th>PO5_NE</th>\n",
       "      <th>PO6_NE</th>\n",
       "      <th>PO7_NE</th>\n",
       "      <th>PO8_NE</th>\n",
       "      <th>Oz_NE</th>\n",
       "      <th>O1_NE</th>\n",
       "      <th>O2_NE</th>\n",
       "    </tr>\n",
       "  </thead>\n",
       "  <tbody>\n",
       "    <tr>\n",
       "      <th>0</th>\n",
       "      <td>1.0</td>\n",
       "      <td>-0.423165</td>\n",
       "      <td>-0.605734</td>\n",
       "      <td>-0.573282</td>\n",
       "      <td>-0.500007</td>\n",
       "      <td>-0.401145</td>\n",
       "      <td>-0.491678</td>\n",
       "      <td>-0.468914</td>\n",
       "      <td>0.620719</td>\n",
       "      <td>-0.243267</td>\n",
       "      <td>...</td>\n",
       "      <td>0.019342</td>\n",
       "      <td>0.024959</td>\n",
       "      <td>0.038193</td>\n",
       "      <td>0.050286</td>\n",
       "      <td>0.032757</td>\n",
       "      <td>0.064969</td>\n",
       "      <td>0.040938</td>\n",
       "      <td>0.011460</td>\n",
       "      <td>0.036298</td>\n",
       "      <td>0.007060</td>\n",
       "    </tr>\n",
       "    <tr>\n",
       "      <th>1</th>\n",
       "      <td>0.0</td>\n",
       "      <td>-0.423165</td>\n",
       "      <td>-0.464854</td>\n",
       "      <td>-0.453156</td>\n",
       "      <td>-0.482284</td>\n",
       "      <td>-0.376241</td>\n",
       "      <td>-0.347845</td>\n",
       "      <td>-0.243932</td>\n",
       "      <td>0.071365</td>\n",
       "      <td>-0.251413</td>\n",
       "      <td>...</td>\n",
       "      <td>-1.006514</td>\n",
       "      <td>-1.011093</td>\n",
       "      <td>-0.993473</td>\n",
       "      <td>-0.980820</td>\n",
       "      <td>-0.969396</td>\n",
       "      <td>-0.856874</td>\n",
       "      <td>-0.876288</td>\n",
       "      <td>-0.924450</td>\n",
       "      <td>-0.892299</td>\n",
       "      <td>-0.915992</td>\n",
       "    </tr>\n",
       "    <tr>\n",
       "      <th>2</th>\n",
       "      <td>0.0</td>\n",
       "      <td>-0.499531</td>\n",
       "      <td>-0.464071</td>\n",
       "      <td>-0.505894</td>\n",
       "      <td>-0.525606</td>\n",
       "      <td>-0.394504</td>\n",
       "      <td>-0.363989</td>\n",
       "      <td>-0.403406</td>\n",
       "      <td>0.307796</td>\n",
       "      <td>-0.270972</td>\n",
       "      <td>...</td>\n",
       "      <td>-0.818488</td>\n",
       "      <td>-0.824712</td>\n",
       "      <td>-0.803325</td>\n",
       "      <td>-0.818002</td>\n",
       "      <td>-0.809413</td>\n",
       "      <td>-0.793231</td>\n",
       "      <td>-0.694275</td>\n",
       "      <td>-0.740746</td>\n",
       "      <td>-0.708569</td>\n",
       "      <td>-0.732519</td>\n",
       "    </tr>\n",
       "    <tr>\n",
       "      <th>3</th>\n",
       "      <td>0.0</td>\n",
       "      <td>-0.407088</td>\n",
       "      <td>-0.623735</td>\n",
       "      <td>-0.342801</td>\n",
       "      <td>-0.446838</td>\n",
       "      <td>-0.449291</td>\n",
       "      <td>-0.570199</td>\n",
       "      <td>-0.500057</td>\n",
       "      <td>0.120042</td>\n",
       "      <td>-0.218333</td>\n",
       "      <td>...</td>\n",
       "      <td>-0.009605</td>\n",
       "      <td>0.000634</td>\n",
       "      <td>-0.011536</td>\n",
       "      <td>-0.009623</td>\n",
       "      <td>-0.019021</td>\n",
       "      <td>0.008133</td>\n",
       "      <td>-0.006551</td>\n",
       "      <td>-0.011428</td>\n",
       "      <td>0.021092</td>\n",
       "      <td>-0.040917</td>\n",
       "    </tr>\n",
       "    <tr>\n",
       "      <th>4</th>\n",
       "      <td>0.0</td>\n",
       "      <td>-0.503550</td>\n",
       "      <td>-0.105453</td>\n",
       "      <td>-0.521715</td>\n",
       "      <td>-0.568928</td>\n",
       "      <td>-0.427709</td>\n",
       "      <td>-0.528370</td>\n",
       "      <td>-0.330381</td>\n",
       "      <td>0.196534</td>\n",
       "      <td>-0.354088</td>\n",
       "      <td>...</td>\n",
       "      <td>-0.623582</td>\n",
       "      <td>-0.718353</td>\n",
       "      <td>-0.684963</td>\n",
       "      <td>-0.697164</td>\n",
       "      <td>-0.669428</td>\n",
       "      <td>-0.663657</td>\n",
       "      <td>-0.676904</td>\n",
       "      <td>-0.695098</td>\n",
       "      <td>-0.694274</td>\n",
       "      <td>-0.670438</td>\n",
       "    </tr>\n",
       "  </tbody>\n",
       "</table>\n",
       "<p>5 rows × 473 columns</p>\n",
       "</div>"
      ],
      "text/plain": [
       "   valence       Fpz       Fp1       Fp2       AF3       AF4       AF7  \\\n",
       "0      1.0 -0.423165 -0.605734 -0.573282 -0.500007 -0.401145 -0.491678   \n",
       "1      0.0 -0.423165 -0.464854 -0.453156 -0.482284 -0.376241 -0.347845   \n",
       "2      0.0 -0.499531 -0.464071 -0.505894 -0.525606 -0.394504 -0.363989   \n",
       "3      0.0 -0.407088 -0.623735 -0.342801 -0.446838 -0.449291 -0.570199   \n",
       "4      0.0 -0.503550 -0.105453 -0.521715 -0.568928 -0.427709 -0.528370   \n",
       "\n",
       "        AF8        Fz        F1  ...    POz_NE    PO3_NE    PO4_NE    PO5_NE  \\\n",
       "0 -0.468914  0.620719 -0.243267  ...  0.019342  0.024959  0.038193  0.050286   \n",
       "1 -0.243932  0.071365 -0.251413  ... -1.006514 -1.011093 -0.993473 -0.980820   \n",
       "2 -0.403406  0.307796 -0.270972  ... -0.818488 -0.824712 -0.803325 -0.818002   \n",
       "3 -0.500057  0.120042 -0.218333  ... -0.009605  0.000634 -0.011536 -0.009623   \n",
       "4 -0.330381  0.196534 -0.354088  ... -0.623582 -0.718353 -0.684963 -0.697164   \n",
       "\n",
       "     PO6_NE    PO7_NE    PO8_NE     Oz_NE     O1_NE     O2_NE  \n",
       "0  0.032757  0.064969  0.040938  0.011460  0.036298  0.007060  \n",
       "1 -0.969396 -0.856874 -0.876288 -0.924450 -0.892299 -0.915992  \n",
       "2 -0.809413 -0.793231 -0.694275 -0.740746 -0.708569 -0.732519  \n",
       "3 -0.019021  0.008133 -0.006551 -0.011428  0.021092 -0.040917  \n",
       "4 -0.669428 -0.663657 -0.676904 -0.695098 -0.694274 -0.670438  \n",
       "\n",
       "[5 rows x 473 columns]"
      ]
     },
     "execution_count": 118,
     "metadata": {},
     "output_type": "execute_result"
    }
   ],
   "source": [
    "normalizer(missing_value_handler(df)).head()"
   ]
  },
  {
   "cell_type": "markdown",
   "metadata": {},
   "source": [
    "### Data Balancing :"
   ]
  },
  {
   "cell_type": "markdown",
   "metadata": {},
   "source": [
    "hint: you can use `imblearn` library."
   ]
  },
  {
   "cell_type": "code",
   "execution_count": 119,
   "metadata": {},
   "outputs": [],
   "source": [
    "def balancer(df):\n",
    "    \n",
    "    balanced_dataset = df.copy()\n",
    "    smote = SMOTE()\n",
    "\n",
    "    X = balanced_dataset.drop('valence', axis=1)\n",
    "    Y = balanced_dataset['valence']\n",
    "\n",
    "    X_resampled , Y_resampled = smote.fit_resample(X, Y)\n",
    "    balanced_dataset = pd.concat([Y_resampled, X_resampled], axis=1)\n",
    "\n",
    "    return balanced_dataset"
   ]
  },
  {
   "cell_type": "code",
   "execution_count": 120,
   "metadata": {},
   "outputs": [
    {
     "data": {
      "text/html": [
       "<div>\n",
       "<style scoped>\n",
       "    .dataframe tbody tr th:only-of-type {\n",
       "        vertical-align: middle;\n",
       "    }\n",
       "\n",
       "    .dataframe tbody tr th {\n",
       "        vertical-align: top;\n",
       "    }\n",
       "\n",
       "    .dataframe thead th {\n",
       "        text-align: right;\n",
       "    }\n",
       "</style>\n",
       "<table border=\"1\" class=\"dataframe\">\n",
       "  <thead>\n",
       "    <tr style=\"text-align: right;\">\n",
       "      <th></th>\n",
       "      <th>valence</th>\n",
       "      <th>Fpz</th>\n",
       "      <th>Fp1</th>\n",
       "      <th>Fp2</th>\n",
       "      <th>AF3</th>\n",
       "      <th>AF4</th>\n",
       "      <th>AF7</th>\n",
       "      <th>AF8</th>\n",
       "      <th>Fz</th>\n",
       "      <th>F1</th>\n",
       "      <th>...</th>\n",
       "      <th>POz_NE</th>\n",
       "      <th>PO3_NE</th>\n",
       "      <th>PO4_NE</th>\n",
       "      <th>PO5_NE</th>\n",
       "      <th>PO6_NE</th>\n",
       "      <th>PO7_NE</th>\n",
       "      <th>PO8_NE</th>\n",
       "      <th>Oz_NE</th>\n",
       "      <th>O1_NE</th>\n",
       "      <th>O2_NE</th>\n",
       "    </tr>\n",
       "  </thead>\n",
       "  <tbody>\n",
       "    <tr>\n",
       "      <th>2689</th>\n",
       "      <td>0.0</td>\n",
       "      <td>-0.375166</td>\n",
       "      <td>-0.549205</td>\n",
       "      <td>-0.154967</td>\n",
       "      <td>-0.461568</td>\n",
       "      <td>-0.204177</td>\n",
       "      <td>-0.274517</td>\n",
       "      <td>-0.517096</td>\n",
       "      <td>0.255038</td>\n",
       "      <td>-0.026281</td>\n",
       "      <td>...</td>\n",
       "      <td>0.036357</td>\n",
       "      <td>0.054662</td>\n",
       "      <td>0.110756</td>\n",
       "      <td>0.089823</td>\n",
       "      <td>0.242056</td>\n",
       "      <td>0.074139</td>\n",
       "      <td>0.214894</td>\n",
       "      <td>0.058361</td>\n",
       "      <td>0.082192</td>\n",
       "      <td>0.085728</td>\n",
       "    </tr>\n",
       "    <tr>\n",
       "      <th>2690</th>\n",
       "      <td>0.0</td>\n",
       "      <td>-0.498767</td>\n",
       "      <td>-0.349995</td>\n",
       "      <td>-0.369465</td>\n",
       "      <td>-0.026232</td>\n",
       "      <td>-0.354431</td>\n",
       "      <td>-0.242712</td>\n",
       "      <td>-0.141913</td>\n",
       "      <td>-0.593746</td>\n",
       "      <td>-0.518145</td>\n",
       "      <td>...</td>\n",
       "      <td>-0.788588</td>\n",
       "      <td>-0.836669</td>\n",
       "      <td>-0.748952</td>\n",
       "      <td>-0.845780</td>\n",
       "      <td>-0.851716</td>\n",
       "      <td>-0.845739</td>\n",
       "      <td>-0.874753</td>\n",
       "      <td>-0.864714</td>\n",
       "      <td>-0.850868</td>\n",
       "      <td>-0.890623</td>\n",
       "    </tr>\n",
       "    <tr>\n",
       "      <th>2691</th>\n",
       "      <td>0.0</td>\n",
       "      <td>-0.665504</td>\n",
       "      <td>-0.799170</td>\n",
       "      <td>-0.649815</td>\n",
       "      <td>-0.742429</td>\n",
       "      <td>-0.631419</td>\n",
       "      <td>-0.670971</td>\n",
       "      <td>-0.573102</td>\n",
       "      <td>-0.537246</td>\n",
       "      <td>-0.481085</td>\n",
       "      <td>...</td>\n",
       "      <td>1.844509</td>\n",
       "      <td>1.902112</td>\n",
       "      <td>1.881773</td>\n",
       "      <td>1.959217</td>\n",
       "      <td>1.910807</td>\n",
       "      <td>1.974242</td>\n",
       "      <td>1.920481</td>\n",
       "      <td>1.899418</td>\n",
       "      <td>1.979697</td>\n",
       "      <td>1.905041</td>\n",
       "    </tr>\n",
       "    <tr>\n",
       "      <th>2692</th>\n",
       "      <td>0.0</td>\n",
       "      <td>-0.192011</td>\n",
       "      <td>-0.440843</td>\n",
       "      <td>0.093753</td>\n",
       "      <td>-0.360283</td>\n",
       "      <td>0.026457</td>\n",
       "      <td>0.090511</td>\n",
       "      <td>-0.326160</td>\n",
       "      <td>0.129934</td>\n",
       "      <td>0.035524</td>\n",
       "      <td>...</td>\n",
       "      <td>-0.620013</td>\n",
       "      <td>-0.606808</td>\n",
       "      <td>-0.606131</td>\n",
       "      <td>-0.573706</td>\n",
       "      <td>-0.565459</td>\n",
       "      <td>-0.587672</td>\n",
       "      <td>-0.593085</td>\n",
       "      <td>-0.618917</td>\n",
       "      <td>-0.592878</td>\n",
       "      <td>-0.597546</td>\n",
       "    </tr>\n",
       "    <tr>\n",
       "      <th>2693</th>\n",
       "      <td>0.0</td>\n",
       "      <td>-0.119725</td>\n",
       "      <td>0.557473</td>\n",
       "      <td>0.447318</td>\n",
       "      <td>-0.038668</td>\n",
       "      <td>-0.545444</td>\n",
       "      <td>1.821780</td>\n",
       "      <td>0.319987</td>\n",
       "      <td>-0.235494</td>\n",
       "      <td>0.075233</td>\n",
       "      <td>...</td>\n",
       "      <td>-1.062484</td>\n",
       "      <td>-0.975387</td>\n",
       "      <td>-1.093205</td>\n",
       "      <td>-1.039229</td>\n",
       "      <td>-1.035039</td>\n",
       "      <td>-1.032300</td>\n",
       "      <td>-1.035779</td>\n",
       "      <td>-1.109183</td>\n",
       "      <td>-1.082900</td>\n",
       "      <td>-1.082487</td>\n",
       "    </tr>\n",
       "  </tbody>\n",
       "</table>\n",
       "<p>5 rows × 473 columns</p>\n",
       "</div>"
      ],
      "text/plain": [
       "      valence       Fpz       Fp1       Fp2       AF3       AF4       AF7  \\\n",
       "2689      0.0 -0.375166 -0.549205 -0.154967 -0.461568 -0.204177 -0.274517   \n",
       "2690      0.0 -0.498767 -0.349995 -0.369465 -0.026232 -0.354431 -0.242712   \n",
       "2691      0.0 -0.665504 -0.799170 -0.649815 -0.742429 -0.631419 -0.670971   \n",
       "2692      0.0 -0.192011 -0.440843  0.093753 -0.360283  0.026457  0.090511   \n",
       "2693      0.0 -0.119725  0.557473  0.447318 -0.038668 -0.545444  1.821780   \n",
       "\n",
       "           AF8        Fz        F1  ...    POz_NE    PO3_NE    PO4_NE  \\\n",
       "2689 -0.517096  0.255038 -0.026281  ...  0.036357  0.054662  0.110756   \n",
       "2690 -0.141913 -0.593746 -0.518145  ... -0.788588 -0.836669 -0.748952   \n",
       "2691 -0.573102 -0.537246 -0.481085  ...  1.844509  1.902112  1.881773   \n",
       "2692 -0.326160  0.129934  0.035524  ... -0.620013 -0.606808 -0.606131   \n",
       "2693  0.319987 -0.235494  0.075233  ... -1.062484 -0.975387 -1.093205   \n",
       "\n",
       "        PO5_NE    PO6_NE    PO7_NE    PO8_NE     Oz_NE     O1_NE     O2_NE  \n",
       "2689  0.089823  0.242056  0.074139  0.214894  0.058361  0.082192  0.085728  \n",
       "2690 -0.845780 -0.851716 -0.845739 -0.874753 -0.864714 -0.850868 -0.890623  \n",
       "2691  1.959217  1.910807  1.974242  1.920481  1.899418  1.979697  1.905041  \n",
       "2692 -0.573706 -0.565459 -0.587672 -0.593085 -0.618917 -0.592878 -0.597546  \n",
       "2693 -1.039229 -1.035039 -1.032300 -1.035779 -1.109183 -1.082900 -1.082487  \n",
       "\n",
       "[5 rows x 473 columns]"
      ]
     },
     "execution_count": 120,
     "metadata": {},
     "output_type": "execute_result"
    }
   ],
   "source": [
    "balanced_df = balancer(normalizer(missing_value_handler(df)))\n",
    "balanced_df.tail()"
   ]
  },
  {
   "cell_type": "code",
   "execution_count": 121,
   "metadata": {},
   "outputs": [
    {
     "name": "stdout",
     "output_type": "stream",
     "text": [
      "696 1347\n"
     ]
    }
   ],
   "source": [
    "print(len(df[df['valence'] == 0]), len(df[df['valence'] == 1]))"
   ]
  },
  {
   "cell_type": "code",
   "execution_count": 122,
   "metadata": {},
   "outputs": [
    {
     "name": "stdout",
     "output_type": "stream",
     "text": [
      "1347 1347\n"
     ]
    }
   ],
   "source": [
    "print(len(balanced_df[balanced_df['valence'] == 0]), len(balanced_df[balanced_df['valence'] == 1]))"
   ]
  },
  {
   "cell_type": "markdown",
   "metadata": {},
   "source": [
    "## Feature selection"
   ]
  },
  {
   "cell_type": "code",
   "execution_count": 123,
   "metadata": {},
   "outputs": [],
   "source": [
    "def feature_selector(df):\n",
    "\n",
    "    selected_df = df.copy()\n",
    "    X = selected_df.drop('valence', axis=1)\n",
    "    Y = selected_df['valence']\n",
    "\n",
    "    clf = LGBMClassifier(verbose= -100)\n",
    "    rfe = RFE(clf, n_features_to_select=200, step=8)\n",
    "    rfe.fit(X, Y)\n",
    "\n",
    "    X = pd.DataFrame(rfe.transform(X))\n",
    "    selected_df = pd.concat([Y, X], axis=1)\n",
    "    \n",
    "    return selected_df"
   ]
  },
  {
   "cell_type": "markdown",
   "metadata": {},
   "source": [
    "---\n"
   ]
  },
  {
   "cell_type": "code",
   "execution_count": 124,
   "metadata": {},
   "outputs": [
    {
     "data": {
      "text/plain": [
       "473"
      ]
     },
     "execution_count": 124,
     "metadata": {},
     "output_type": "execute_result"
    }
   ],
   "source": [
    "len(df.columns)"
   ]
  },
  {
   "cell_type": "code",
   "execution_count": 125,
   "metadata": {},
   "outputs": [
    {
     "data": {
      "text/plain": [
       "201"
      ]
     },
     "execution_count": 125,
     "metadata": {},
     "output_type": "execute_result"
    }
   ],
   "source": [
    "len(feature_selector(balanced_df).columns)"
   ]
  },
  {
   "cell_type": "markdown",
   "metadata": {},
   "source": [
    "Prepare your dataset :\n"
   ]
  },
  {
   "cell_type": "code",
   "execution_count": 126,
   "metadata": {},
   "outputs": [],
   "source": [
    "df_wm = missing_value_handler(df)\n",
    "df_wm_normlized =  normalizer(df_wm)\n",
    "df_wm_normlized_balenced = balancer(df_wm_normlized)\n",
    "df_new = feature_selector(df_wm_normlized_balenced)"
   ]
  },
  {
   "cell_type": "markdown",
   "metadata": {},
   "source": [
    "### Split the dataset into training and testing sets"
   ]
  },
  {
   "cell_type": "markdown",
   "metadata": {},
   "source": [
    "hint: you can use `sklearn.model_selection.train_test_split`"
   ]
  },
  {
   "cell_type": "code",
   "execution_count": 127,
   "metadata": {},
   "outputs": [],
   "source": [
    "X = df_new.drop('valence', axis=1)\n",
    "y = df_new['valence']\n",
    "\n",
    "X_train, X_test, y_train, y_test = train_test_split(X, y, test_size=0.3, shuffle=True)"
   ]
  },
  {
   "cell_type": "markdown",
   "metadata": {},
   "source": [
    "### visualizing training data"
   ]
  },
  {
   "cell_type": "code",
   "execution_count": 128,
   "metadata": {},
   "outputs": [
    {
     "data": {
      "image/png": "[encoded data removed]",
      "text/plain": [
       "<Figure size 640x480 with 1 Axes>"
      ]
     },
     "metadata": {},
     "output_type": "display_data"
    }
   ],
   "source": [
    "pca = PCA(n_components=3)\n",
    "visualized_data = pca.fit_transform(X_train)\n",
    "temp_y_train = np.array(y_train)\n",
    "\n",
    "colors = ['blue', 'red']\n",
    "fig = plt.figure()\n",
    "ax = fig.add_subplot(projection='3d')\n",
    "\n",
    "for label in range(2):\n",
    "    xs, ys, zs = [], [], []\n",
    "    xs = [visualized_data[i][0] for i in range(0, len(temp_y_train), 3) if int(temp_y_train[i]) == label]\n",
    "    ys = [visualized_data[i][1] for i in range(0, len(temp_y_train), 3) if int(temp_y_train[i]) == label]\n",
    "    zs = [visualized_data[i][2] for i in range(0, len(temp_y_train), 3) if int(temp_y_train[i]) == label]\n",
    "    ax.scatter(xs, ys, zs, label=label, color=colors[label])\n",
    "\n",
    "ax.legend()\n",
    "plt.show()\n"
   ]
  },
  {
   "cell_type": "markdown",
   "metadata": {},
   "source": [
    "### model selection and training (with cross validation)"
   ]
  },
  {
   "cell_type": "code",
   "execution_count": 129,
   "metadata": {},
   "outputs": [],
   "source": [
    "k_folds = KFold(n_splits = 5)"
   ]
  },
  {
   "cell_type": "markdown",
   "metadata": {},
   "source": [
    "LightGBM Classifier"
   ]
  },
  {
   "cell_type": "code",
   "execution_count": 130,
   "metadata": {},
   "outputs": [],
   "source": [
    "lgbm_classifier = LGBMClassifier(num_leaves=40, max_depth=10, verbose= -100)"
   ]
  },
  {
   "cell_type": "code",
   "execution_count": 131,
   "metadata": {},
   "outputs": [
    {
     "name": "stdout",
     "output_type": "stream",
     "text": [
      "Cross Validation Scores:  [0.4174397  0.44341373 0.40816327 0.52319109 0.96096654]\n",
      "Average CV Score:  0.5506348669917444\n"
     ]
    }
   ],
   "source": [
    "scores1 = cross_val_score(lgbm_classifier, X, y, cv = k_folds)\n",
    "\n",
    "print(\"Cross Validation Scores: \", scores1)\n",
    "print(\"Average CV Score: \", scores1.mean())"
   ]
  },
  {
   "cell_type": "code",
   "execution_count": 132,
   "metadata": {},
   "outputs": [],
   "source": [
    "lgbm_classifier.fit(X_train, y_train)\n",
    "y_pred1 = lgbm_classifier.predict(X_test)"
   ]
  },
  {
   "cell_type": "markdown",
   "metadata": {},
   "source": [
    "Random Forest Classifier"
   ]
  },
  {
   "cell_type": "code",
   "execution_count": 133,
   "metadata": {},
   "outputs": [],
   "source": [
    "random_forest = RandomForestClassifier(n_estimators=250)"
   ]
  },
  {
   "cell_type": "code",
   "execution_count": 134,
   "metadata": {},
   "outputs": [
    {
     "name": "stdout",
     "output_type": "stream",
     "text": [
      "Cross Validation Scores:  [0.39146568 0.42857143 0.40816327 0.50463822 0.9070632 ]\n",
      "Average CV Score:  0.5279803574014938\n"
     ]
    }
   ],
   "source": [
    "scores2 = cross_val_score(random_forest, X, y, cv = k_folds)\n",
    "\n",
    "print(\"Cross Validation Scores: \", scores2)\n",
    "print(\"Average CV Score: \", scores2.mean())"
   ]
  },
  {
   "cell_type": "code",
   "execution_count": 135,
   "metadata": {},
   "outputs": [],
   "source": [
    "random_forest.fit(X_train, y_train)\n",
    "y_pred2 = random_forest.predict(X_test)"
   ]
  },
  {
   "cell_type": "markdown",
   "metadata": {},
   "source": [
    "Support Vector Machine"
   ]
  },
  {
   "cell_type": "code",
   "execution_count": 136,
   "metadata": {},
   "outputs": [],
   "source": [
    "svm = SVC()"
   ]
  },
  {
   "cell_type": "code",
   "execution_count": 137,
   "metadata": {},
   "outputs": [
    {
     "name": "stdout",
     "output_type": "stream",
     "text": [
      "Cross Validation Scores:  [0.42300557 0.42300557 0.42486085 0.54359926 0.82527881]\n",
      "Average CV Score:  0.5279500106903188\n"
     ]
    }
   ],
   "source": [
    "scores3 = cross_val_score(svm, X, y, cv = k_folds)\n",
    "\n",
    "print(\"Cross Validation Scores: \", scores3)\n",
    "print(\"Average CV Score: \", scores3.mean())"
   ]
  },
  {
   "cell_type": "code",
   "execution_count": 138,
   "metadata": {},
   "outputs": [],
   "source": [
    "svm.fit(X_train, y_train)\n",
    "y_pred3 = svm.predict(X_test)"
   ]
  },
  {
   "cell_type": "markdown",
   "metadata": {},
   "source": [
    "Multi-Layer Perceptron Classifier"
   ]
  },
  {
   "cell_type": "code",
   "execution_count": 139,
   "metadata": {},
   "outputs": [],
   "source": [
    "mlp = MLPClassifier(max_iter= 1000)"
   ]
  },
  {
   "cell_type": "code",
   "execution_count": 140,
   "metadata": {},
   "outputs": [
    {
     "name": "stdout",
     "output_type": "stream",
     "text": [
      "Cross Validation Scores:  [0.4025974  0.44155844 0.46567718 0.58627087 1.        ]\n",
      "Average CV Score:  0.5792207792207792\n"
     ]
    }
   ],
   "source": [
    "scores4 = cross_val_score(mlp, X, y, cv = k_folds)\n",
    "\n",
    "print(\"Cross Validation Scores: \", scores4)\n",
    "print(\"Average CV Score: \", scores4.mean())"
   ]
  },
  {
   "cell_type": "code",
   "execution_count": 142,
   "metadata": {},
   "outputs": [],
   "source": [
    "mlp.fit(X_train, y_train)\n",
    "y_pred4 = mlp.predict(X_test)"
   ]
  },
  {
   "cell_type": "markdown",
   "metadata": {},
   "source": [
    "## model evaluation"
   ]
  },
  {
   "cell_type": "markdown",
   "metadata": {},
   "source": [
    "roc curves"
   ]
  },
  {
   "cell_type": "code",
   "execution_count": 143,
   "metadata": {},
   "outputs": [],
   "source": [
    "def plot_roc_for_models(y_test, y_pred, classifier, color):\n",
    "    fpr, tpr, thresh = roc_curve(y_test, y_pred, pos_label=1)\n",
    "    plt.style.use('seaborn')\n",
    "\n",
    "    plt.plot(fpr, tpr, linestyle='--',color=color, label=classifier)\n",
    "\n",
    "    plt.title('ROC curve')\n",
    "    plt.xlabel('False Positive Rate')\n",
    "    plt.ylabel('True Positive rate')\n",
    "\n",
    "    plt.legend(loc='best')\n",
    "    plt.savefig('ROC',dpi=300)"
   ]
  },
  {
   "cell_type": "code",
   "execution_count": 144,
   "metadata": {},
   "outputs": [],
   "source": [
    "def plot_roc():\n",
    "    random_probs = [0 for i in range(len(y_test))]\n",
    "    p_fpr, p_tpr, _ = roc_curve(y_test, random_probs, pos_label=1)\n",
    "\n",
    "    plt.plot(p_fpr, p_tpr, linestyle='--', color='blue')"
   ]
  },
  {
   "cell_type": "code",
   "execution_count": 145,
   "metadata": {},
   "outputs": [
    {
     "data": {
      "image/png": "[encoded data removed]",
      "text/plain": [
       "<Figure size 800x550 with 1 Axes>"
      ]
     },
     "metadata": {},
     "output_type": "display_data"
    }
   ],
   "source": [
    "plot_roc_for_models(y_test, y_pred1, \"LGBM\", \"black\")\n",
    "plot_roc_for_models(y_test, y_pred2, \"Random Forest\", \"green\")\n",
    "plot_roc_for_models(y_test, y_pred3, \"SVM\", \"orange\")\n",
    "plot_roc_for_models(y_test, y_pred4, \"MLP\", \"red\")\n",
    "plot_roc()\n",
    "\n",
    "plt.show()"
   ]
  },
  {
   "cell_type": "markdown",
   "metadata": {},
   "source": [
    "LightGBM Classifier"
   ]
  },
  {
   "cell_type": "code",
   "execution_count": 146,
   "metadata": {},
   "outputs": [
    {
     "name": "stdout",
     "output_type": "stream",
     "text": [
      "f1 score: 0.83 || accuracy score: 0.83 || roc-auc score: 0.83\n"
     ]
    }
   ],
   "source": [
    "print(\"f1 score:\", round(f1_score(y_test, y_pred1), 2), \"|| accuracy score:\", round(accuracy_score(y_test, y_pred1), 2),\n",
    "       \"|| roc-auc score:\", round(roc_auc_score(y_test, y_pred1), 2))"
   ]
  },
  {
   "cell_type": "markdown",
   "metadata": {},
   "source": [
    "Random Forest Classifier"
   ]
  },
  {
   "cell_type": "code",
   "execution_count": 147,
   "metadata": {},
   "outputs": [
    {
     "name": "stdout",
     "output_type": "stream",
     "text": [
      "f1 score: 0.83 || accuracy score: 0.83 || roc-auc score: 0.83\n"
     ]
    }
   ],
   "source": [
    "print(\"f1 score:\", round(f1_score(y_test, y_pred2), 2), \"|| accuracy score:\",  round(accuracy_score(y_test, y_pred2), 2),\n",
    "       \"|| roc-auc score:\", round(roc_auc_score(y_test, y_pred2), 2))"
   ]
  },
  {
   "cell_type": "markdown",
   "metadata": {},
   "source": [
    "Support Vector Machine"
   ]
  },
  {
   "cell_type": "code",
   "execution_count": 148,
   "metadata": {},
   "outputs": [
    {
     "name": "stdout",
     "output_type": "stream",
     "text": [
      "f1 score: 0.8 || accuracy score: 0.8 || roc-auc score: 0.8\n"
     ]
    }
   ],
   "source": [
    "print(\"f1 score:\", round(f1_score(y_test, y_pred3), 2), \"|| accuracy score:\",  round(accuracy_score(y_test, y_pred3), 2),\n",
    "       \"|| roc-auc score:\", round(roc_auc_score(y_test, y_pred3), 2))"
   ]
  },
  {
   "cell_type": "markdown",
   "metadata": {},
   "source": [
    "Multi-Layer Perceptron Classifier"
   ]
  },
  {
   "cell_type": "code",
   "execution_count": 149,
   "metadata": {},
   "outputs": [
    {
     "name": "stdout",
     "output_type": "stream",
     "text": [
      "f1 score: 0.82 || accuracy score: 0.82 || roc-auc score: 0.82\n"
     ]
    }
   ],
   "source": [
    "print(\"f1 score:\", round(f1_score(y_test, y_pred4), 2), \"|| accuracy score:\",  round(accuracy_score(y_test, y_pred4), 2),\n",
    "       \"|| roc-auc score:\", round(roc_auc_score(y_test, y_pred4), 2))"
   ]
  },
  {
   "cell_type": "markdown",
   "metadata": {},
   "source": [
    "### plot confusion matrix to evaluate your resualt "
   ]
  },
  {
   "cell_type": "markdown",
   "metadata": {},
   "source": [
    "A confusion matrix is a table that is used to evaluate the performance of a classification model by comparing the predicted class labels to the actual class labels. The table consists of four cells: true positives (TP), true negatives (TN), false positives (FP), and false negatives (FN). \n",
    "\n",
    "True positives are the cases where the model correctly predicted the positive class, while true negatives are the cases where the model correctly predicted the negative class. False positives are the cases where the model incorrectly predicted the positive class, and false negatives are the cases where the model incorrectly predicted the negative class. \n",
    "\n",
    "The confusion matrix allows us to calculate several metrics, such as accuracy, precision, recall, and F1 score, which are useful in evaluating the performance of a classification model and gaining insights into its strengths and weaknesses"
   ]
  },
  {
   "cell_type": "code",
   "execution_count": 150,
   "metadata": {},
   "outputs": [],
   "source": [
    "import tensorflow as tf\n",
    "\n",
    "def plot_confusion_mat(y_test,y_pred):\n",
    "    confusion_mtx = tf.math.confusion_matrix(y_test, y_pred)\n",
    "    plt.figure(figsize=(10, 8))\n",
    "    sns.heatmap(confusion_mtx,\n",
    "                xticklabels=['Negetive','Positive'],\n",
    "                yticklabels=['Negetive','Positive'],\n",
    "                annot=True, fmt='g',\n",
    "                cbar_kws={'label': r''})\n",
    "    plt.xlabel('Prediction')\n",
    "    plt.ylabel('True label')\n",
    "    plt.title(f'Classification results for {len(y_test)} samples')\n",
    "    plt.show()   "
   ]
  },
  {
   "cell_type": "markdown",
   "metadata": {},
   "source": [
    "the code above needs tensorfelow library `tf`\n",
    "\n",
    "you can use the altranative : \n",
    "\n",
    "`sklearn.metrics.confusion_matrix(y_true, y_pred, *, labels=None, sample_weight=None, normalize=None)`"
   ]
  },
  {
   "cell_type": "markdown",
   "metadata": {},
   "source": [
    "LightGBM Classifier"
   ]
  },
  {
   "cell_type": "code",
   "execution_count": 151,
   "metadata": {},
   "outputs": [
    {
     "data": {
      "image/png": "[encoded data removed]",
      "text/plain": [
       "<Figure size 1000x800 with 2 Axes>"
      ]
     },
     "metadata": {},
     "output_type": "display_data"
    }
   ],
   "source": [
    "plot_confusion_mat(y_test, y_pred1)"
   ]
  },
  {
   "cell_type": "markdown",
   "metadata": {},
   "source": [
    "Random Forest Classifier"
   ]
  },
  {
   "cell_type": "code",
   "execution_count": 152,
   "metadata": {},
   "outputs": [
    {
     "data": {
      "image/png": "[encoded data removed]",
      "text/plain": [
       "<Figure size 1000x800 with 2 Axes>"
      ]
     },
     "metadata": {},
     "output_type": "display_data"
    }
   ],
   "source": [
    "plot_confusion_mat(y_test, y_pred2)"
   ]
  },
  {
   "cell_type": "markdown",
   "metadata": {},
   "source": [
    "Support Vector Machine"
   ]
  },
  {
   "cell_type": "code",
   "execution_count": 153,
   "metadata": {},
   "outputs": [
    {
     "data": {
      "image/png": "[encoded data removed]",
      "text/plain": [
       "<Figure size 1000x800 with 2 Axes>"
      ]
     },
     "metadata": {},
     "output_type": "display_data"
    }
   ],
   "source": [
    "plot_confusion_mat(y_test, y_pred3)"
   ]
  },
  {
   "cell_type": "markdown",
   "metadata": {},
   "source": [
    "Multi-Layer Perceptron Classifier"
   ]
  },
  {
   "cell_type": "code",
   "execution_count": 154,
   "metadata": {},
   "outputs": [
    {
     "data": {
      "image/png": "[encoded data removed]",
      "text/plain": [
       "<Figure size 1000x800 with 2 Axes>"
      ]
     },
     "metadata": {},
     "output_type": "display_data"
    }
   ],
   "source": [
    "plot_confusion_mat(y_test, y_pred4)"
   ]
  }
 ],
 "metadata": {
  "kernelspec": {
   "display_name": "Python 3.9.17 ('alzheimer')",
   "language": "python",
   "name": "python3"
  },
  "language_info": {
   "codemirror_mode": {
    "name": "ipython",
    "version": 3
   },
   "file_extension": ".py",
   "mimetype": "text/x-python",
   "name": "python",
   "nbconvert_exporter": "python",
   "pygments_lexer": "ipython3",
   "version": "3.11.5"
  },
  "orig_nbformat": 4,
  "vscode": {
   "interpreter": {
    "hash": "25b05e4795a1531d3b55a0058bc302082de6595a5bd8f40643b8c42ae422adc8"
   }
  }
 },
 "nbformat": 4,
 "nbformat_minor": 2
}
